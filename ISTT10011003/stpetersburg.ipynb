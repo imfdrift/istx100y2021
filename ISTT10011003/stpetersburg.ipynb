{
 "cells": [
  {
   "cell_type": "markdown",
   "metadata": {},
   "source": [
    "## Simulering av St. Petersburg-paradokset\n",
    "Man satser et visst beløp og kaster en rubel k ganger inntil man får \"kron\". Man mottar så en gevinst på $2^k$ rubler"
   ]
  },
  {
   "cell_type": "code",
   "execution_count": 1,
   "metadata": {},
   "outputs": [],
   "source": [
    "import random                          # Pakke for generering av tilfeldige tall"
   ]
  },
  {
   "cell_type": "code",
   "execution_count": 2,
   "metadata": {},
   "outputs": [
    {
     "name": "stdout",
     "output_type": "stream",
     "text": [
      "Gjennomsnittlig gevinst\n",
      "18.106\n"
     ]
    }
   ],
   "source": [
    "n_sim = 10000                          # Antall ganger vi spiller\n",
    "total_gevinst = 0                      # Variabel for total gevinst\n",
    "\n",
    "for i in range(n_sim): \n",
    "    rubel = 0                          # Lar 0 bety mynt og 1 bety kron\n",
    "    k = 0                              # Antall kast til vi får kron\n",
    "    while rubel < 1 :                  # Fortsett så lenge vi kaster mynt\n",
    "        rubel = random.randint(0,1)    # Trekker enten 0 eller 1\n",
    "        k += 1                         # Teller antall kast\n",
    "    total_gevinst += 2**k              # Oppdaterer total gevinst etter spill i\n",
    "print(\"Gjennomsnittlig gevinst\")\n",
    "print(total_gevinst/n_sim)"
   ]
  },
  {
   "cell_type": "code",
   "execution_count": null,
   "metadata": {},
   "outputs": [],
   "source": []
  },
  {
   "cell_type": "code",
   "execution_count": null,
   "metadata": {},
   "outputs": [],
   "source": []
  }
 ],
 "metadata": {
  "kernelspec": {
   "display_name": "Python 3",
   "language": "python",
   "name": "python3"
  },
  "language_info": {
   "codemirror_mode": {
    "name": "ipython",
    "version": 3
   },
   "file_extension": ".py",
   "mimetype": "text/x-python",
   "name": "python",
   "nbconvert_exporter": "python",
   "pygments_lexer": "ipython3",
   "version": "3.8.3"
  }
 },
 "nbformat": 4,
 "nbformat_minor": 5
}
