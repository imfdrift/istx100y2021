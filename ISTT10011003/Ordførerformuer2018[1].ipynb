{
 "cells": [
  {
   "cell_type": "code",
   "execution_count": 11,
   "id": "dd85195c-dc8b-4b6c-a657-25f7306b3d0a",
   "metadata": {},
   "outputs": [],
   "source": [
    "import pandas as pd # lese data fra csv-fil og bruke DataFrames\n",
    "import seaborn as sns # plotting\n",
    "sns.set(style = 'whitegrid', font_scale = 1.5) # utseende av plott\n",
    "import matplotlib.pyplot as plt # mer plotting\n",
    "import numpy as np # matematikk\n",
    "import statsmodels.api as sms # regresjonen\n",
    "import statsmodels.formula.api as smf # formel for regresjonen\n",
    "import statistics as stats"
   ]
  },
  {
   "cell_type": "code",
   "execution_count": null,
   "id": "672f76fb-12ce-4f57-a3e5-432d06be22b8",
   "metadata": {},
   "outputs": [],
   "source": [
    "Leser inn datafil"
   ]
  },
  {
   "cell_type": "code",
   "execution_count": 5,
   "id": "5919fcd4-4445-4dfc-9e97-d64880ebcaae",
   "metadata": {},
   "outputs": [
    {
     "data": {
      "text/plain": [
       "(423, 2)"
      ]
     },
     "execution_count": 5,
     "metadata": {},
     "output_type": "execute_result"
    }
   ],
   "source": [
    "ordforer = pd.read_excel('formuer.xls') # leser inn excel-fila\n",
    "ordforer.shape # dimensjonen på datasettet"
   ]
  },
  {
   "cell_type": "code",
   "execution_count": 3,
   "id": "4bcd650c-2e38-47e4-9cef-66d933896e60",
   "metadata": {},
   "outputs": [
    {
     "data": {
      "text/html": [
       "<div>\n",
       "<style scoped>\n",
       "    .dataframe tbody tr th:only-of-type {\n",
       "        vertical-align: middle;\n",
       "    }\n",
       "\n",
       "    .dataframe tbody tr th {\n",
       "        vertical-align: top;\n",
       "    }\n",
       "\n",
       "    .dataframe thead th {\n",
       "        text-align: right;\n",
       "    }\n",
       "</style>\n",
       "<table border=\"1\" class=\"dataframe\">\n",
       "  <thead>\n",
       "    <tr style=\"text-align: right;\">\n",
       "      <th></th>\n",
       "      <th>Kommune</th>\n",
       "      <th>Formuer</th>\n",
       "    </tr>\n",
       "  </thead>\n",
       "  <tbody>\n",
       "    <tr>\n",
       "      <th>0</th>\n",
       "      <td>Agdenes</td>\n",
       "      <td>423148</td>\n",
       "    </tr>\n",
       "    <tr>\n",
       "      <th>1</th>\n",
       "      <td>Alstahaug</td>\n",
       "      <td>0</td>\n",
       "    </tr>\n",
       "    <tr>\n",
       "      <th>2</th>\n",
       "      <td>Alta</td>\n",
       "      <td>0</td>\n",
       "    </tr>\n",
       "    <tr>\n",
       "      <th>3</th>\n",
       "      <td>Alvdal</td>\n",
       "      <td>0</td>\n",
       "    </tr>\n",
       "    <tr>\n",
       "      <th>4</th>\n",
       "      <td>Andøy</td>\n",
       "      <td>0</td>\n",
       "    </tr>\n",
       "    <tr>\n",
       "      <th>...</th>\n",
       "      <td>...</td>\n",
       "      <td>...</td>\n",
       "    </tr>\n",
       "    <tr>\n",
       "      <th>418</th>\n",
       "      <td>Åmot</td>\n",
       "      <td>1739253</td>\n",
       "    </tr>\n",
       "    <tr>\n",
       "      <th>419</th>\n",
       "      <td>Årdal</td>\n",
       "      <td>0</td>\n",
       "    </tr>\n",
       "    <tr>\n",
       "      <th>420</th>\n",
       "      <td>Ås</td>\n",
       "      <td>2992572</td>\n",
       "    </tr>\n",
       "    <tr>\n",
       "      <th>421</th>\n",
       "      <td>Åseral</td>\n",
       "      <td>2624124</td>\n",
       "    </tr>\n",
       "    <tr>\n",
       "      <th>422</th>\n",
       "      <td>Åsnes</td>\n",
       "      <td>8685</td>\n",
       "    </tr>\n",
       "  </tbody>\n",
       "</table>\n",
       "<p>423 rows × 2 columns</p>\n",
       "</div>"
      ],
      "text/plain": [
       "       Kommune  Formuer\n",
       "0      Agdenes   423148\n",
       "1    Alstahaug        0\n",
       "2         Alta        0\n",
       "3       Alvdal        0\n",
       "4        Andøy        0\n",
       "..         ...      ...\n",
       "418       Åmot  1739253\n",
       "419      Årdal        0\n",
       "420         Ås  2992572\n",
       "421     Åseral  2624124\n",
       "422      Åsnes     8685\n",
       "\n",
       "[423 rows x 2 columns]"
      ]
     },
     "execution_count": 3,
     "metadata": {},
     "output_type": "execute_result"
    }
   ],
   "source": [
    "ordforer"
   ]
  },
  {
   "cell_type": "code",
   "execution_count": 7,
   "id": "09ab16e9-d94e-4a3b-880e-36cb040dac7a",
   "metadata": {},
   "outputs": [
    {
     "data": {
      "text/plain": [
       "2743451.0"
      ]
     },
     "execution_count": 7,
     "metadata": {},
     "output_type": "execute_result"
    }
   ],
   "source": [
    "# Gjennomsnitt\n",
    "round(statistics.mean(ordforer['Formuer']),0)"
   ]
  },
  {
   "cell_type": "code",
   "execution_count": 8,
   "id": "3dc10bac-11e7-472b-a98d-4688aaa9bf1e",
   "metadata": {},
   "outputs": [
    {
     "data": {
      "text/plain": [
       "27004427.0"
      ]
     },
     "execution_count": 8,
     "metadata": {},
     "output_type": "execute_result"
    }
   ],
   "source": [
    "# Standardavvik\n",
    "round(statistics.stdev(ordforer['Formuer']),0)"
   ]
  },
  {
   "cell_type": "code",
   "execution_count": 66,
   "id": "7729d779-a595-4d60-8889-6e1a8a117f7d",
   "metadata": {},
   "outputs": [
    {
     "data": {
      "text/plain": [
       "<AxesSubplot:>"
      ]
     },
     "execution_count": 66,
     "metadata": {},
     "output_type": "execute_result"
    },
    {
     "data": {
      "image/png": "[encoded data removed]",
      "text/plain": [
       "<Figure size 432x288 with 1 Axes>"
      ]
     },
     "metadata": {},
     "output_type": "display_data"
    }
   ],
   "source": [
    "sns.boxplot(data = ordforer)"
   ]
  },
  {
   "cell_type": "code",
   "execution_count": 12,
   "id": "918dc1af-a998-42b6-bb34-31be70106b9d",
   "metadata": {},
   "outputs": [
    {
     "data": {
      "text/plain": [
       "0"
      ]
     },
     "execution_count": 12,
     "metadata": {},
     "output_type": "execute_result"
    }
   ],
   "source": [
    "# Median\n",
    "stats.median(ordforer['Formuer'])"
   ]
  },
  {
   "cell_type": "code",
   "execution_count": 14,
   "id": "16832ea6-3666-4b7a-b2ca-6fc304ae9382",
   "metadata": {},
   "outputs": [
    {
     "data": {
      "text/plain": [
       "1282953.5"
      ]
     },
     "execution_count": 14,
     "metadata": {},
     "output_type": "execute_result"
    }
   ],
   "source": [
    "# Kvartilbredde\n",
    "np.quantile(ordforer['Formuer'], 0.75) - np.quantile(ordforer['Formuer'], 0.25)"
   ]
  },
  {
   "cell_type": "code",
   "execution_count": 15,
   "id": "0c173b26-7408-48e7-b841-c8085d5a65c6",
   "metadata": {},
   "outputs": [
    {
     "data": {
      "text/plain": [
       "0.0"
      ]
     },
     "execution_count": 15,
     "metadata": {},
     "output_type": "execute_result"
    }
   ],
   "source": [
    "np.quantile(ordforer['Formuer'], 0.25)"
   ]
  },
  {
   "cell_type": "code",
   "execution_count": null,
   "id": "bcb4e6db-f30e-45e0-b82a-e52972f596c4",
   "metadata": {},
   "outputs": [],
   "source": []
  }
 ],
 "metadata": {
  "kernelspec": {
   "display_name": "Python 3 (ipykernel)",
   "language": "python",
   "name": "python3"
  },
  "language_info": {
   "codemirror_mode": {
    "name": "ipython",
    "version": 3
   },
   "file_extension": ".py",
   "mimetype": "text/x-python",
   "name": "python",
   "nbconvert_exporter": "python",
   "pygments_lexer": "ipython3",
   "version": "3.9.6"
  }
 },
 "nbformat": 4,
 "nbformat_minor": 5
}
