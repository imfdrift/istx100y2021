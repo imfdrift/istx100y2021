{
 "cells": [
  {
   "cell_type": "code",
   "execution_count": 22,
   "id": "f072bdf5-7675-4691-9d46-7c40df669e54",
   "metadata": {},
   "outputs": [],
   "source": [
    "import pandas as pd # lese data fra csv-fil og bruke DataFrames\n",
    "import seaborn as sns # plotting\n",
    "sns.set(style = 'whitegrid', font_scale = 1.5) # utseende av plott\n",
    "import matplotlib.pyplot as plt # mer plotting\n",
    "import numpy as np # matematikk\n",
    "import statsmodels.api as sms # regresjonen\n",
    "import statsmodels.formula.api as smf # formel for regresjonen\n",
    "import statistics as stats"
   ]
  },
  {
   "cell_type": "code",
   "execution_count": 23,
   "id": "e1504e69-58f0-46f7-8c99-d6fcb610b484",
   "metadata": {},
   "outputs": [],
   "source": [
    "#Lager datasett\n",
    "alder = [19,19,21,22,22,25,30]"
   ]
  },
  {
   "cell_type": "code",
   "execution_count": 26,
   "id": "5cab9431-a5b0-4e3c-9879-4986ccda6fe5",
   "metadata": {},
   "outputs": [
    {
     "data": {
      "text/plain": [
       "22.57"
      ]
     },
     "execution_count": 26,
     "metadata": {},
     "output_type": "execute_result"
    }
   ],
   "source": [
    "#Finner gjennomsnitt\n",
    "round(stats.mean(alder),2)"
   ]
  },
  {
   "cell_type": "code",
   "execution_count": 9,
   "id": "d5649952-db0a-4a55-b4c7-0ca49d74f312",
   "metadata": {},
   "outputs": [
    {
     "data": {
      "text/plain": [
       "4.226897995772629"
      ]
     },
     "execution_count": 9,
     "metadata": {},
     "output_type": "execute_result"
    }
   ],
   "source": [
    "#Finner standaravvik\n",
    "stats.stdev(alder)"
   ]
  },
  {
   "cell_type": "code",
   "execution_count": 12,
   "id": "fde90265-1836-4200-b8f0-a8cdb2dc9517",
   "metadata": {},
   "outputs": [
    {
     "data": {
      "text/plain": [
       "22"
      ]
     },
     "execution_count": 12,
     "metadata": {},
     "output_type": "execute_result"
    }
   ],
   "source": [
    "# Median\n",
    "stats.median(alder)"
   ]
  },
  {
   "cell_type": "code",
   "execution_count": 14,
   "id": "c655d074-bced-4170-9e8d-bb6e3f3c6b45",
   "metadata": {},
   "outputs": [
    {
     "data": {
      "text/plain": [
       "20.0"
      ]
     },
     "execution_count": 14,
     "metadata": {},
     "output_type": "execute_result"
    }
   ],
   "source": [
    "# Nedre kvartil\n",
    "nedre = np.quantile(alder,0.25)\n",
    "nedre"
   ]
  },
  {
   "cell_type": "code",
   "execution_count": 29,
   "id": "3088773e-ab43-41dc-9816-182b56a9d048",
   "metadata": {},
   "outputs": [
    {
     "data": {
      "text/plain": [
       "23.5"
      ]
     },
     "execution_count": 29,
     "metadata": {},
     "output_type": "execute_result"
    }
   ],
   "source": [
    "# Øvre kvartil\n",
    "ovre = np.quantile(alder,0.75)\n",
    "ovre"
   ]
  },
  {
   "cell_type": "code",
   "execution_count": 30,
   "id": "873e73fb-e5dd-4cd0-800e-860fd26c8bea",
   "metadata": {},
   "outputs": [
    {
     "data": {
      "text/plain": [
       "3.5"
      ]
     },
     "execution_count": 30,
     "metadata": {},
     "output_type": "execute_result"
    }
   ],
   "source": [
    "# Kvartilbredde\n",
    "ovre - nedre"
   ]
  },
  {
   "cell_type": "code",
   "execution_count": 31,
   "id": "d15f9265-36a0-43c3-a3b9-dac48a2c3f84",
   "metadata": {},
   "outputs": [
    {
     "data": {
      "text/plain": [
       "11"
      ]
     },
     "execution_count": 31,
     "metadata": {},
     "output_type": "execute_result"
    }
   ],
   "source": [
    "# Variasjonsbredde\n",
    "max(alder) - min(alder)"
   ]
  },
  {
   "cell_type": "code",
   "execution_count": 32,
   "id": "3b297049-6d6a-4050-af34-6baf5bd48264",
   "metadata": {},
   "outputs": [
    {
     "data": {
      "text/plain": [
       "(array([5., 1., 1.]),\n",
       " array([19.        , 22.66666667, 26.33333333, 30.        ]),\n",
       " <BarContainer object of 3 artists>)"
      ]
     },
     "execution_count": 32,
     "metadata": {},
     "output_type": "execute_result"
    },
    {
     "data": {
      "image/png": "[encoded data removed]",
      "text/plain": [
       "<Figure size 432x288 with 1 Axes>"
      ]
     },
     "metadata": {},
     "output_type": "display_data"
    }
   ],
   "source": [
    "plt.hist(alder,3)"
   ]
  },
  {
   "cell_type": "code",
   "execution_count": 18,
   "id": "346104b1-47c5-4feb-aa3a-bf91e7e02777",
   "metadata": {},
   "outputs": [
    {
     "data": {
      "text/plain": [
       "<AxesSubplot:>"
      ]
     },
     "execution_count": 18,
     "metadata": {},
     "output_type": "execute_result"
    },
    {
     "data": {
      "image/png": "[encoded data removed]",
      "text/plain": [
       "<Figure size 432x288 with 1 Axes>"
      ]
     },
     "metadata": {},
     "output_type": "display_data"
    }
   ],
   "source": [
    "sns.boxplot(data = alder)"
   ]
  },
  {
   "cell_type": "code",
   "execution_count": null,
   "id": "219d0260-b364-4d5f-a576-fab2fb980f87",
   "metadata": {},
   "outputs": [],
   "source": []
  },
  {
   "cell_type": "code",
   "execution_count": null,
   "id": "332191b2-7f8b-4b1f-a7d6-cda3f65a3396",
   "metadata": {},
   "outputs": [],
   "source": []
  }
 ],
 "metadata": {
  "kernelspec": {
   "display_name": "Python 3 (ipykernel)",
   "language": "python",
   "name": "python3"
  },
  "language_info": {
   "codemirror_mode": {
    "name": "ipython",
    "version": 3
   },
   "file_extension": ".py",
   "mimetype": "text/x-python",
   "name": "python",
   "nbconvert_exporter": "python",
   "pygments_lexer": "ipython3",
   "version": "3.9.6"
  }
 },
 "nbformat": 4,
 "nbformat_minor": 5
}
