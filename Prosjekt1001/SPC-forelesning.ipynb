{
 "cells": [
  {
   "cell_type": "code",
   "execution_count": 2,
   "id": "47b26b74-53b2-4d2d-8bb5-47a3b3930d24",
   "metadata": {},
   "outputs": [],
   "source": [
    "import pandas as pd\n",
    "import numpy as np\n",
    "import matplotlib.pyplot as plt\n",
    "from scipy import stats"
   ]
  },
  {
   "cell_type": "code",
   "execution_count": 4,
   "id": "cda2c97e-4365-498a-bf7e-cef2db64ce94",
   "metadata": {},
   "outputs": [
    {
     "name": "stdout",
     "output_type": "stream",
     "text": [
      "       x1      x2      x3      x4      x5      x6\n",
      "0  0.0574  0.0570  0.0565  0.0558  0.0540  0.0556\n",
      "1  0.0543  0.0585  0.0556  0.0551  0.0562  0.0563\n",
      "2  0.0554  0.0550  0.0555  0.0551  0.0558  0.0544\n",
      "3  0.0576  0.0580  0.0570  0.0580  0.0580  0.0569\n",
      "4  0.0568  0.0570  0.0560  0.0570  0.0570  0.0560\n",
      "5  0.0572  0.0580  0.0590  0.0580  0.0570  0.0570\n",
      "6  0.0576  0.0560  0.0570  0.0580  0.0570  0.0550\n",
      "7  0.0554  0.0560  0.0580  0.0580  0.0560  0.0550\n",
      "8  0.0555  0.0570  0.0560  0.0550  0.0536  0.0544\n",
      "9  0.0570  0.0566  0.0558  0.0550  0.0554  0.0556\n"
     ]
    }
   ],
   "source": [
    "pilot = pd.read_excel('Pilot.xlsx')\n",
    "print(pilot)"
   ]
  },
  {
   "cell_type": "code",
   "execution_count": 6,
   "id": "6d518f80-99d4-479a-ae1f-13a1b215fd7a",
   "metadata": {},
   "outputs": [
    {
     "data": {
      "text/html": [
       "<div>\n",
       "<style scoped>\n",
       "    .dataframe tbody tr th:only-of-type {\n",
       "        vertical-align: middle;\n",
       "    }\n",
       "\n",
       "    .dataframe tbody tr th {\n",
       "        vertical-align: top;\n",
       "    }\n",
       "\n",
       "    .dataframe thead th {\n",
       "        text-align: right;\n",
       "    }\n",
       "</style>\n",
       "<table border=\"1\" class=\"dataframe\">\n",
       "  <thead>\n",
       "    <tr style=\"text-align: right;\">\n",
       "      <th></th>\n",
       "      <th>count</th>\n",
       "      <th>mean</th>\n",
       "      <th>std</th>\n",
       "      <th>min</th>\n",
       "      <th>25%</th>\n",
       "      <th>50%</th>\n",
       "      <th>75%</th>\n",
       "      <th>max</th>\n",
       "    </tr>\n",
       "  </thead>\n",
       "  <tbody>\n",
       "    <tr>\n",
       "      <th>0</th>\n",
       "      <td>6.0</td>\n",
       "      <td>0.056050</td>\n",
       "      <td>0.001216</td>\n",
       "      <td>0.0540</td>\n",
       "      <td>0.055650</td>\n",
       "      <td>0.05615</td>\n",
       "      <td>0.056875</td>\n",
       "      <td>0.0574</td>\n",
       "    </tr>\n",
       "    <tr>\n",
       "      <th>1</th>\n",
       "      <td>6.0</td>\n",
       "      <td>0.056000</td>\n",
       "      <td>0.001431</td>\n",
       "      <td>0.0543</td>\n",
       "      <td>0.055225</td>\n",
       "      <td>0.05590</td>\n",
       "      <td>0.056275</td>\n",
       "      <td>0.0585</td>\n",
       "    </tr>\n",
       "    <tr>\n",
       "      <th>2</th>\n",
       "      <td>6.0</td>\n",
       "      <td>0.055200</td>\n",
       "      <td>0.000486</td>\n",
       "      <td>0.0544</td>\n",
       "      <td>0.055025</td>\n",
       "      <td>0.05525</td>\n",
       "      <td>0.055475</td>\n",
       "      <td>0.0558</td>\n",
       "    </tr>\n",
       "    <tr>\n",
       "      <th>3</th>\n",
       "      <td>6.0</td>\n",
       "      <td>0.057583</td>\n",
       "      <td>0.000515</td>\n",
       "      <td>0.0569</td>\n",
       "      <td>0.057150</td>\n",
       "      <td>0.05780</td>\n",
       "      <td>0.058000</td>\n",
       "      <td>0.0580</td>\n",
       "    </tr>\n",
       "    <tr>\n",
       "      <th>4</th>\n",
       "      <td>6.0</td>\n",
       "      <td>0.056633</td>\n",
       "      <td>0.000497</td>\n",
       "      <td>0.0560</td>\n",
       "      <td>0.056200</td>\n",
       "      <td>0.05690</td>\n",
       "      <td>0.057000</td>\n",
       "      <td>0.0570</td>\n",
       "    </tr>\n",
       "    <tr>\n",
       "      <th>5</th>\n",
       "      <td>6.0</td>\n",
       "      <td>0.057700</td>\n",
       "      <td>0.000787</td>\n",
       "      <td>0.0570</td>\n",
       "      <td>0.057050</td>\n",
       "      <td>0.05760</td>\n",
       "      <td>0.058000</td>\n",
       "      <td>0.0590</td>\n",
       "    </tr>\n",
       "    <tr>\n",
       "      <th>6</th>\n",
       "      <td>6.0</td>\n",
       "      <td>0.056767</td>\n",
       "      <td>0.001098</td>\n",
       "      <td>0.0550</td>\n",
       "      <td>0.056250</td>\n",
       "      <td>0.05700</td>\n",
       "      <td>0.057450</td>\n",
       "      <td>0.0580</td>\n",
       "    </tr>\n",
       "    <tr>\n",
       "      <th>7</th>\n",
       "      <td>6.0</td>\n",
       "      <td>0.056400</td>\n",
       "      <td>0.001296</td>\n",
       "      <td>0.0550</td>\n",
       "      <td>0.055550</td>\n",
       "      <td>0.05600</td>\n",
       "      <td>0.057500</td>\n",
       "      <td>0.0580</td>\n",
       "    </tr>\n",
       "    <tr>\n",
       "      <th>8</th>\n",
       "      <td>6.0</td>\n",
       "      <td>0.055250</td>\n",
       "      <td>0.001200</td>\n",
       "      <td>0.0536</td>\n",
       "      <td>0.054550</td>\n",
       "      <td>0.05525</td>\n",
       "      <td>0.055875</td>\n",
       "      <td>0.0570</td>\n",
       "    </tr>\n",
       "    <tr>\n",
       "      <th>9</th>\n",
       "      <td>6.0</td>\n",
       "      <td>0.055900</td>\n",
       "      <td>0.000756</td>\n",
       "      <td>0.0550</td>\n",
       "      <td>0.055450</td>\n",
       "      <td>0.05570</td>\n",
       "      <td>0.056400</td>\n",
       "      <td>0.0570</td>\n",
       "    </tr>\n",
       "  </tbody>\n",
       "</table>\n",
       "</div>"
      ],
      "text/plain": [
       "   count      mean       std     min       25%      50%       75%     max\n",
       "0    6.0  0.056050  0.001216  0.0540  0.055650  0.05615  0.056875  0.0574\n",
       "1    6.0  0.056000  0.001431  0.0543  0.055225  0.05590  0.056275  0.0585\n",
       "2    6.0  0.055200  0.000486  0.0544  0.055025  0.05525  0.055475  0.0558\n",
       "3    6.0  0.057583  0.000515  0.0569  0.057150  0.05780  0.058000  0.0580\n",
       "4    6.0  0.056633  0.000497  0.0560  0.056200  0.05690  0.057000  0.0570\n",
       "5    6.0  0.057700  0.000787  0.0570  0.057050  0.05760  0.058000  0.0590\n",
       "6    6.0  0.056767  0.001098  0.0550  0.056250  0.05700  0.057450  0.0580\n",
       "7    6.0  0.056400  0.001296  0.0550  0.055550  0.05600  0.057500  0.0580\n",
       "8    6.0  0.055250  0.001200  0.0536  0.054550  0.05525  0.055875  0.0570\n",
       "9    6.0  0.055900  0.000756  0.0550  0.055450  0.05570  0.056400  0.0570"
      ]
     },
     "metadata": {},
     "output_type": "display_data"
    }
   ],
   "source": [
    "oversikt = pilot.apply(pd.DataFrame.describe,axis=1)\n",
    "display(oversikt)"
   ]
  },
  {
   "cell_type": "code",
   "execution_count": 8,
   "id": "bfcd4131-e4cb-4b8e-8aac-3f40fd33d640",
   "metadata": {},
   "outputs": [
    {
     "name": "stdout",
     "output_type": "stream",
     "text": [
      "[0.0574 0.057  0.0565 0.0558 0.054  0.0556 0.0543 0.0585 0.0556 0.0551\n",
      " 0.0562 0.0563 0.0554 0.055  0.0555 0.0551 0.0558 0.0544 0.0576 0.058\n",
      " 0.057  0.058  0.058  0.0569 0.0568 0.057  0.056  0.057  0.057  0.056\n",
      " 0.0572 0.058  0.059  0.058  0.057  0.057  0.0576 0.056  0.057  0.058\n",
      " 0.057  0.055  0.0554 0.056  0.058  0.058  0.056  0.055  0.0555 0.057\n",
      " 0.056  0.055  0.0536 0.0544 0.057  0.0566 0.0558 0.055  0.0554 0.0556]\n"
     ]
    }
   ],
   "source": [
    "pilot_tabell = pilot.to_numpy().flatten()\n",
    "print(pilot_tabell)"
   ]
  },
  {
   "cell_type": "code",
   "execution_count": 11,
   "id": "8d9b7c12-5cda-4e52-9b83-5c8390b21427",
   "metadata": {},
   "outputs": [
    {
     "data": {
      "text/plain": [
       "(array([ 2.,  3.,  7.,  8., 10.,  4., 13.,  3.,  8.,  2.]),\n",
       " array([0.0536 , 0.05414, 0.05468, 0.05522, 0.05576, 0.0563 , 0.05684,\n",
       "        0.05738, 0.05792, 0.05846, 0.059  ]),\n",
       " <BarContainer object of 10 artists>)"
      ]
     },
     "execution_count": 11,
     "metadata": {},
     "output_type": "execute_result"
    },
    {
     "data": {
      "image/png": "[encoded data removed]",
      "text/plain": [
       "<Figure size 432x288 with 1 Axes>"
      ]
     },
     "metadata": {
      "needs_background": "light"
     },
     "output_type": "display_data"
    }
   ],
   "source": [
    "plt.figure()\n",
    "#plt.plot(pilot_tabell)\n",
    "plt.hist(pilot_tabell)"
   ]
  },
  {
   "cell_type": "code",
   "execution_count": 15,
   "id": "bf2f504b-5422-410c-9c70-a261a4b53fd6",
   "metadata": {},
   "outputs": [
    {
     "name": "stdout",
     "output_type": "stream",
     "text": [
      "0.056348333333333334 0.0009895958771134817\n"
     ]
    }
   ],
   "source": [
    "#Standardavvik for hver serie\n",
    "xm_i = pilot.mean(axis=1)\n",
    "#Middelverdi av standardavvikene\n",
    "xmm = xm_i.mean()\n",
    "s_i = pilot.std(axis=1)\n",
    "s2_i = s_i**2\n",
    "s2m = s2_i.mean()\n",
    "sm = np.sqrt(s2m)\n",
    "print(xmm,sm)"
   ]
  },
  {
   "cell_type": "code",
   "execution_count": 30,
   "id": "c0ff1a5d-df55-40bc-bcad-ba6ce78f3fdb",
   "metadata": {},
   "outputs": [
    {
     "name": "stdout",
     "output_type": "stream",
     "text": [
      "0.0009895958771134817\n"
     ]
    },
    {
     "data": {
      "text/plain": [
       "[<matplotlib.lines.Line2D at 0x7f2bf2fe9280>]"
      ]
     },
     "execution_count": 30,
     "metadata": {},
     "output_type": "execute_result"
    },
    {
     "data": {
      "image/png": "[encoded data removed]",
      "text/plain": [
       "<Figure size 432x288 with 1 Axes>"
      ]
     },
     "metadata": {
      "needs_background": "light"
     },
     "output_type": "display_data"
    }
   ],
   "source": [
    "tykkelse = pd.read_excel('Tykkelse.xlsx')\n",
    "#Standardavvik for hver serie\n",
    "xm_i = tykkelse.mean(axis=1)\n",
    "#Øvre og nedre kontrollgrense\n",
    "n = tykkelse.shape[1]\n",
    "CL = xmm - 3*sm/np.sqrt(n)\n",
    "CU = xmm + 3*sm/np.sqrt(n)\n",
    "print(sm)\n",
    "plt.figure()\n",
    "plt.xlabel('Stikkprøve')\n",
    "plt.ylabel('Tykkelse')\n",
    "plt.title('Shewharts $\\overline{x}$-diagram')\n",
    "plt.axhline(xmm)\n",
    "plt.axhline(CL)\n",
    "plt.axhline(CU)\n",
    "plt.plot(xm_i,'o-')"
   ]
  },
  {
   "cell_type": "code",
   "execution_count": 29,
   "id": "5d65cb50-d697-4687-a9bc-5b035cf518ea",
   "metadata": {},
   "outputs": [
    {
     "data": {
      "image/png": "[encoded data removed]",
      "text/plain": [
       "<Figure size 432x288 with 1 Axes>"
      ]
     },
     "metadata": {
      "needs_background": "light"
     },
     "output_type": "display_data"
    }
   ],
   "source": [
    "s_i=tykkelse.std(axis=1)\n",
    "nedre = sm*np.sqrt(stats.chi2.ppf(0.002,n-1)/(n-1))\n",
    "ovre = sm*np.sqrt(stats.chi2.ppf(1-0.002,n-1)/(n-1))\n",
    "plt.figure()\n",
    "plt.xlabel('Stikkprøve')\n",
    "plt.ylabel('Tykkelse')\n",
    "plt.title('s-diagram')\n",
    "plt.plot(s_i,'o-')\n",
    "plt.axhline(sm,linestyle='-.')\n",
    "plt.axhline(nedre,color='r')\n",
    "plt.axhline(ovre,color='r')\n",
    "plt.savefig('s.png')"
   ]
  },
  {
   "cell_type": "code",
   "execution_count": null,
   "id": "2c2afe4f-fe4c-48ad-91de-e823e7e8dbdf",
   "metadata": {},
   "outputs": [],
   "source": []
  }
 ],
 "metadata": {
  "kernelspec": {
   "display_name": "Python 3 (ipykernel)",
   "language": "python",
   "name": "python3"
  },
  "language_info": {
   "codemirror_mode": {
    "name": "ipython",
    "version": 3
   },
   "file_extension": ".py",
   "mimetype": "text/x-python",
   "name": "python",
   "nbconvert_exporter": "python",
   "pygments_lexer": "ipython3",
   "version": "3.9.6"
  }
 },
 "nbformat": 4,
 "nbformat_minor": 5
}
