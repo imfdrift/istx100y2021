{
 "cells": [
  {
   "cell_type": "markdown",
   "metadata": {},
   "source": [
    "# Prosjektoppgave del 2 - Statistisk kvalitetskontroll\n",
    "Mål med oppgaven:\n",
    "- Deskripttiv statistikk\n",
    "- Tolkning av kapabilitetsindeks\n",
    "- Lage Shewart $\\overline{x}$- og $s$-diagram.\n",
    "- Bruke og tolke Shewart $\\overline{x}$- og $s$-diagram.\n"
   ]
  },
  {
   "cell_type": "markdown",
   "metadata": {},
   "source": [
    "En bedrift er ansvarlig for sløying og pakking av fisk. \n",
    "\n",
    "De ønsker å foreta kontrollmålinger for å sikre at vekten av hver fiskefilet  et ferdigpakket produkt er korrekt.<br>Anta at bedriften hver dag gjennomfører en stikkprøve der de veier $n=8$ tilfeldige valgte fiskefileter.  "
   ]
  },
  {
   "cell_type": "markdown",
   "metadata": {},
   "source": [
    "##  Oppgave 1, oppstartsfasen.\n",
    "Vi er nå i den fasen at prosessen forhåpentligvis er klar til oppstart - For eksempel er forsøksplanlegging en del av forarbeidet for å få riktige innstillinger.\n",
    "\n",
    "Vi simulerer at bedriften kjører en testrunde med stikkprøver der $n=8$ tilfeldige valgte fileeter veies. Bedriften gjør $k=12$ slike stikkprøver.\n",
    "\n",
    "Resultatene er oppgitt i  tabellen du produserer under der hver rad svarer til en stikkprøve. Vekten er oppgitt i gram.\n",
    "\n",
    "For at hver gruppe skal få sitt eget datasett legger du først inn nummeret på gruppa, dette som skal være et frø i simuleringa"
   ]
  },
  {
   "cell_type": "code",
   "execution_count": 8,
   "metadata": {},
   "outputs": [
    {
     "data": {
      "text/html": [
       "<div>\n",
       "<style scoped>\n",
       "    .dataframe tbody tr th:only-of-type {\n",
       "        vertical-align: middle;\n",
       "    }\n",
       "\n",
       "    .dataframe tbody tr th {\n",
       "        vertical-align: top;\n",
       "    }\n",
       "\n",
       "    .dataframe thead th {\n",
       "        text-align: right;\n",
       "    }\n",
       "</style>\n",
       "<table border=\"1\" class=\"dataframe\">\n",
       "  <thead>\n",
       "    <tr style=\"text-align: right;\">\n",
       "      <th></th>\n",
       "      <th>0</th>\n",
       "      <th>1</th>\n",
       "      <th>2</th>\n",
       "      <th>3</th>\n",
       "      <th>4</th>\n",
       "      <th>5</th>\n",
       "      <th>6</th>\n",
       "      <th>7</th>\n",
       "    </tr>\n",
       "  </thead>\n",
       "  <tbody>\n",
       "    <tr>\n",
       "      <th>0</th>\n",
       "      <td>124.6</td>\n",
       "      <td>124.7</td>\n",
       "      <td>125.3</td>\n",
       "      <td>124.1</td>\n",
       "      <td>124.9</td>\n",
       "      <td>124.1</td>\n",
       "      <td>124.1</td>\n",
       "      <td>127.8</td>\n",
       "    </tr>\n",
       "    <tr>\n",
       "      <th>1</th>\n",
       "      <td>124.2</td>\n",
       "      <td>125.1</td>\n",
       "      <td>125.6</td>\n",
       "      <td>125.0</td>\n",
       "      <td>123.8</td>\n",
       "      <td>123.9</td>\n",
       "      <td>126.9</td>\n",
       "      <td>124.7</td>\n",
       "    </tr>\n",
       "    <tr>\n",
       "      <th>2</th>\n",
       "      <td>122.7</td>\n",
       "      <td>125.3</td>\n",
       "      <td>124.4</td>\n",
       "      <td>124.2</td>\n",
       "      <td>123.9</td>\n",
       "      <td>127.3</td>\n",
       "      <td>128.0</td>\n",
       "      <td>124.6</td>\n",
       "    </tr>\n",
       "    <tr>\n",
       "      <th>3</th>\n",
       "      <td>125.0</td>\n",
       "      <td>124.9</td>\n",
       "      <td>124.1</td>\n",
       "      <td>125.3</td>\n",
       "      <td>126.1</td>\n",
       "      <td>124.8</td>\n",
       "      <td>125.9</td>\n",
       "      <td>126.2</td>\n",
       "    </tr>\n",
       "    <tr>\n",
       "      <th>4</th>\n",
       "      <td>126.7</td>\n",
       "      <td>125.1</td>\n",
       "      <td>124.6</td>\n",
       "      <td>124.9</td>\n",
       "      <td>125.2</td>\n",
       "      <td>123.5</td>\n",
       "      <td>123.7</td>\n",
       "      <td>123.7</td>\n",
       "    </tr>\n",
       "    <tr>\n",
       "      <th>5</th>\n",
       "      <td>125.2</td>\n",
       "      <td>125.1</td>\n",
       "      <td>124.3</td>\n",
       "      <td>127.4</td>\n",
       "      <td>124.6</td>\n",
       "      <td>124.5</td>\n",
       "      <td>124.2</td>\n",
       "      <td>127.0</td>\n",
       "    </tr>\n",
       "    <tr>\n",
       "      <th>6</th>\n",
       "      <td>127.2</td>\n",
       "      <td>124.3</td>\n",
       "      <td>125.7</td>\n",
       "      <td>126.0</td>\n",
       "      <td>123.2</td>\n",
       "      <td>122.6</td>\n",
       "      <td>123.0</td>\n",
       "      <td>128.6</td>\n",
       "    </tr>\n",
       "    <tr>\n",
       "      <th>7</th>\n",
       "      <td>125.5</td>\n",
       "      <td>125.6</td>\n",
       "      <td>124.9</td>\n",
       "      <td>124.5</td>\n",
       "      <td>127.7</td>\n",
       "      <td>123.9</td>\n",
       "      <td>125.6</td>\n",
       "      <td>128.4</td>\n",
       "    </tr>\n",
       "    <tr>\n",
       "      <th>8</th>\n",
       "      <td>124.7</td>\n",
       "      <td>125.0</td>\n",
       "      <td>124.7</td>\n",
       "      <td>123.5</td>\n",
       "      <td>124.9</td>\n",
       "      <td>127.0</td>\n",
       "      <td>124.7</td>\n",
       "      <td>125.2</td>\n",
       "    </tr>\n",
       "    <tr>\n",
       "      <th>9</th>\n",
       "      <td>123.4</td>\n",
       "      <td>121.8</td>\n",
       "      <td>126.6</td>\n",
       "      <td>123.1</td>\n",
       "      <td>124.4</td>\n",
       "      <td>124.6</td>\n",
       "      <td>127.2</td>\n",
       "      <td>123.3</td>\n",
       "    </tr>\n",
       "    <tr>\n",
       "      <th>10</th>\n",
       "      <td>126.3</td>\n",
       "      <td>122.3</td>\n",
       "      <td>126.2</td>\n",
       "      <td>126.7</td>\n",
       "      <td>125.5</td>\n",
       "      <td>125.6</td>\n",
       "      <td>125.4</td>\n",
       "      <td>126.4</td>\n",
       "    </tr>\n",
       "    <tr>\n",
       "      <th>11</th>\n",
       "      <td>124.2</td>\n",
       "      <td>128.8</td>\n",
       "      <td>124.4</td>\n",
       "      <td>124.9</td>\n",
       "      <td>124.8</td>\n",
       "      <td>125.0</td>\n",
       "      <td>124.0</td>\n",
       "      <td>124.5</td>\n",
       "    </tr>\n",
       "  </tbody>\n",
       "</table>\n",
       "</div>"
      ],
      "text/plain": [
       "        0      1      2      3      4      5      6      7\n",
       "0   124.6  124.7  125.3  124.1  124.9  124.1  124.1  127.8\n",
       "1   124.2  125.1  125.6  125.0  123.8  123.9  126.9  124.7\n",
       "2   122.7  125.3  124.4  124.2  123.9  127.3  128.0  124.6\n",
       "3   125.0  124.9  124.1  125.3  126.1  124.8  125.9  126.2\n",
       "4   126.7  125.1  124.6  124.9  125.2  123.5  123.7  123.7\n",
       "5   125.2  125.1  124.3  127.4  124.6  124.5  124.2  127.0\n",
       "6   127.2  124.3  125.7  126.0  123.2  122.6  123.0  128.6\n",
       "7   125.5  125.6  124.9  124.5  127.7  123.9  125.6  128.4\n",
       "8   124.7  125.0  124.7  123.5  124.9  127.0  124.7  125.2\n",
       "9   123.4  121.8  126.6  123.1  124.4  124.6  127.2  123.3\n",
       "10  126.3  122.3  126.2  126.7  125.5  125.6  125.4  126.4\n",
       "11  124.2  128.8  124.4  124.9  124.8  125.0  124.0  124.5"
      ]
     },
     "metadata": {},
     "output_type": "display_data"
    },
    {
     "data": {
      "text/html": [
       "<div>\n",
       "<style scoped>\n",
       "    .dataframe tbody tr th:only-of-type {\n",
       "        vertical-align: middle;\n",
       "    }\n",
       "\n",
       "    .dataframe tbody tr th {\n",
       "        vertical-align: top;\n",
       "    }\n",
       "\n",
       "    .dataframe thead th {\n",
       "        text-align: right;\n",
       "    }\n",
       "</style>\n",
       "<table border=\"1\" class=\"dataframe\">\n",
       "  <thead>\n",
       "    <tr style=\"text-align: right;\">\n",
       "      <th></th>\n",
       "      <th>count</th>\n",
       "      <th>mean</th>\n",
       "      <th>std</th>\n",
       "      <th>min</th>\n",
       "      <th>25%</th>\n",
       "      <th>50%</th>\n",
       "      <th>75%</th>\n",
       "      <th>max</th>\n",
       "    </tr>\n",
       "  </thead>\n",
       "  <tbody>\n",
       "    <tr>\n",
       "      <th>0</th>\n",
       "      <td>8.0</td>\n",
       "      <td>124.9500</td>\n",
       "      <td>1.230563</td>\n",
       "      <td>124.1</td>\n",
       "      <td>124.100</td>\n",
       "      <td>124.65</td>\n",
       "      <td>125.000</td>\n",
       "      <td>127.8</td>\n",
       "    </tr>\n",
       "    <tr>\n",
       "      <th>1</th>\n",
       "      <td>8.0</td>\n",
       "      <td>124.9000</td>\n",
       "      <td>1.019804</td>\n",
       "      <td>123.8</td>\n",
       "      <td>124.125</td>\n",
       "      <td>124.85</td>\n",
       "      <td>125.225</td>\n",
       "      <td>126.9</td>\n",
       "    </tr>\n",
       "    <tr>\n",
       "      <th>2</th>\n",
       "      <td>8.0</td>\n",
       "      <td>125.0500</td>\n",
       "      <td>1.773616</td>\n",
       "      <td>122.7</td>\n",
       "      <td>124.125</td>\n",
       "      <td>124.50</td>\n",
       "      <td>125.800</td>\n",
       "      <td>128.0</td>\n",
       "    </tr>\n",
       "    <tr>\n",
       "      <th>3</th>\n",
       "      <td>8.0</td>\n",
       "      <td>125.2875</td>\n",
       "      <td>0.731803</td>\n",
       "      <td>124.1</td>\n",
       "      <td>124.875</td>\n",
       "      <td>125.15</td>\n",
       "      <td>125.950</td>\n",
       "      <td>126.2</td>\n",
       "    </tr>\n",
       "    <tr>\n",
       "      <th>4</th>\n",
       "      <td>8.0</td>\n",
       "      <td>124.6750</td>\n",
       "      <td>1.062006</td>\n",
       "      <td>123.5</td>\n",
       "      <td>123.700</td>\n",
       "      <td>124.75</td>\n",
       "      <td>125.125</td>\n",
       "      <td>126.7</td>\n",
       "    </tr>\n",
       "    <tr>\n",
       "      <th>5</th>\n",
       "      <td>8.0</td>\n",
       "      <td>125.2875</td>\n",
       "      <td>1.235704</td>\n",
       "      <td>124.2</td>\n",
       "      <td>124.450</td>\n",
       "      <td>124.85</td>\n",
       "      <td>125.650</td>\n",
       "      <td>127.4</td>\n",
       "    </tr>\n",
       "    <tr>\n",
       "      <th>6</th>\n",
       "      <td>8.0</td>\n",
       "      <td>125.0750</td>\n",
       "      <td>2.162505</td>\n",
       "      <td>122.6</td>\n",
       "      <td>123.150</td>\n",
       "      <td>125.00</td>\n",
       "      <td>126.300</td>\n",
       "      <td>128.6</td>\n",
       "    </tr>\n",
       "    <tr>\n",
       "      <th>7</th>\n",
       "      <td>8.0</td>\n",
       "      <td>125.7625</td>\n",
       "      <td>1.541741</td>\n",
       "      <td>123.9</td>\n",
       "      <td>124.800</td>\n",
       "      <td>125.55</td>\n",
       "      <td>126.125</td>\n",
       "      <td>128.4</td>\n",
       "    </tr>\n",
       "    <tr>\n",
       "      <th>8</th>\n",
       "      <td>8.0</td>\n",
       "      <td>124.9625</td>\n",
       "      <td>0.967969</td>\n",
       "      <td>123.5</td>\n",
       "      <td>124.700</td>\n",
       "      <td>124.80</td>\n",
       "      <td>125.050</td>\n",
       "      <td>127.0</td>\n",
       "    </tr>\n",
       "    <tr>\n",
       "      <th>9</th>\n",
       "      <td>8.0</td>\n",
       "      <td>124.3000</td>\n",
       "      <td>1.824437</td>\n",
       "      <td>121.8</td>\n",
       "      <td>123.250</td>\n",
       "      <td>123.90</td>\n",
       "      <td>125.100</td>\n",
       "      <td>127.2</td>\n",
       "    </tr>\n",
       "    <tr>\n",
       "      <th>10</th>\n",
       "      <td>8.0</td>\n",
       "      <td>125.5500</td>\n",
       "      <td>1.394889</td>\n",
       "      <td>122.3</td>\n",
       "      <td>125.475</td>\n",
       "      <td>125.90</td>\n",
       "      <td>126.325</td>\n",
       "      <td>126.7</td>\n",
       "    </tr>\n",
       "    <tr>\n",
       "      <th>11</th>\n",
       "      <td>8.0</td>\n",
       "      <td>125.0750</td>\n",
       "      <td>1.544345</td>\n",
       "      <td>124.0</td>\n",
       "      <td>124.350</td>\n",
       "      <td>124.65</td>\n",
       "      <td>124.925</td>\n",
       "      <td>128.8</td>\n",
       "    </tr>\n",
       "  </tbody>\n",
       "</table>\n",
       "</div>"
      ],
      "text/plain": [
       "    count      mean       std    min      25%     50%      75%    max\n",
       "0     8.0  124.9500  1.230563  124.1  124.100  124.65  125.000  127.8\n",
       "1     8.0  124.9000  1.019804  123.8  124.125  124.85  125.225  126.9\n",
       "2     8.0  125.0500  1.773616  122.7  124.125  124.50  125.800  128.0\n",
       "3     8.0  125.2875  0.731803  124.1  124.875  125.15  125.950  126.2\n",
       "4     8.0  124.6750  1.062006  123.5  123.700  124.75  125.125  126.7\n",
       "5     8.0  125.2875  1.235704  124.2  124.450  124.85  125.650  127.4\n",
       "6     8.0  125.0750  2.162505  122.6  123.150  125.00  126.300  128.6\n",
       "7     8.0  125.7625  1.541741  123.9  124.800  125.55  126.125  128.4\n",
       "8     8.0  124.9625  0.967969  123.5  124.700  124.80  125.050  127.0\n",
       "9     8.0  124.3000  1.824437  121.8  123.250  123.90  125.100  127.2\n",
       "10    8.0  125.5500  1.394889  122.3  125.475  125.90  126.325  126.7\n",
       "11    8.0  125.0750  1.544345  124.0  124.350  124.65  124.925  128.8"
      ]
     },
     "metadata": {},
     "output_type": "display_data"
    }
   ],
   "source": [
    "Gruppenr = xx # Her skal xx erstattes med nummeret på gruppa di\n",
    "\n",
    "n = 8\n",
    "k = 12\n",
    "tot = n*k\n",
    "\n",
    "mu0 = 125.20  #Vi simulerer at de  har klart å innstille ganske godt men ikke helt nøyaktig på 125 gram\n",
    "sigma0 = 1.40\n",
    "\n",
    "import numpy as np\n",
    "import pandas as pd\n",
    "\n",
    "import matplotlib.pyplot as plt\n",
    "%matplotlib inline\n",
    "\n",
    "#pip install tabulate\n",
    "np.random.seed(seed = Gruppenr)\n",
    "\n",
    "testdata = pd.DataFrame(mu0+sigma0*np.random.randn(k,n))\n",
    "testdata=testdata.round(1)\n",
    "\n",
    "from IPython.display import HTML, display\n",
    "display(testdata)    #Viser alle dataene\n",
    "\n",
    "sammendrag=testdata.apply(pd.DataFrame.describe,axis=1)\n",
    "display(sammendrag)  # Et sammendrag av forventningsverdi, standardavvik mm. for hver stikkprøve\n",
    "\n",
    "\n",
    "\n",
    "\n",
    "\n",
    "\n"
   ]
  },
  {
   "cell_type": "markdown",
   "metadata": {},
   "source": [
    "### Oppgave 1 a)\n",
    "Visualiser dataene (betraktet som et datasett med $8\\cdot12 = 96$ enkeltdata) som histogram og med dataene i rekkefølge. <br>\n",
    "Diskuter kort hva du ser."
   ]
  },
  {
   "cell_type": "code",
   "execution_count": 6,
   "metadata": {},
   "outputs": [],
   "source": [
    "# Utregning og plott til oppgave 1a)\n",
    "# Konverterer verdiene i tabellen til en vektor:\n",
    "data_som_vektor = testdata.to_numpy().flatten()\n",
    "# Fortsett selv"
   ]
  },
  {
   "cell_type": "markdown",
   "metadata": {},
   "source": [
    "Hva ser du fra plottene?"
   ]
  },
  {
   "cell_type": "markdown",
   "metadata": {},
   "source": [
    "### Oppgave 1b)\n",
    "Regn ut gjennomsnitt $\\overline{x}$  og empirisk standardavvik $s$ for HELE datasettet samlet.\n",
    "\n",
    "De \"teoretisk riktige verdiene\"  $\\mu$ og $\\sigma$ er brukt  i simuleringen av dataene, men disse er egentlig ukjente og skal ikke brukes i besvarelsen. \n",
    "\n",
    "Dermed er $\\overline{x}$  og empirisk standardavvik $s$ vårt beste forslag til hva gjennomsnitt og standardavvik er i det lange løp (om prosessen ikke endrer seg)."
   ]
  },
  {
   "cell_type": "code",
   "execution_count": null,
   "metadata": {},
   "outputs": [],
   "source": [
    "# Svar på 1b)\n"
   ]
  },
  {
   "cell_type": "markdown",
   "metadata": {},
   "source": [
    "### Oppgave 1c)\n",
    "\n",
    "Regn ut gjennomsnitt og standardavvik i hvert enkelt av de $k$ forsøkene.\n",
    "\n",
    "Regn ut gjennomsnitt og standardavvik i hvert enkelt av de $k$ forsøkene.\n",
    "\n",
    "\n",
    "Regn ut $\\overline{\\overline{x}}$, gjennomsnitt av gjennomsnittene i enkeltstikkprøvene.<br> Er dette det samme som gjennomsnittet av alle dataene (fra b-opppgaven)?\n",
    "\n",
    "Regn ut $\\overline{s^2}$, gjennomsnittet av variansene  for de $k=12$ stikkprøvene, og standardavviket på basis av dette. <br> Er dette det samme som å regne ut variansen og standardavviket for hele datasettet?\n",
    "\n"
   ]
  },
  {
   "cell_type": "code",
   "execution_count": 9,
   "metadata": {},
   "outputs": [],
   "source": [
    "# Utregning (og tallsvar)  på  1c)\n",
    "xbar=testdata.mean(axis=1) \n",
    "s=testdata.std(axis=1)\n",
    "# Fortsett selv\n",
    "\n",
    "\n"
   ]
  },
  {
   "cell_type": "markdown",
   "metadata": {},
   "source": [
    "Tolkning av resultatet i 1c"
   ]
  },
  {
   "cell_type": "markdown",
   "metadata": {},
   "source": [
    "### Oppgave 1d)\n",
    "En storkunde  har stilt krav om toleransegrense $T_L=120$ gram og $T_u=130$ gram.\n",
    "\n",
    "Beregn kapabilitet og kapabilitetsindeks.<br>\n",
    "Tolk kapabilitetsindeksen.\n",
    "\n",
    "(Om resultatet blir at kundens krav ikke  er oppfylt skal du tenke deg at vi forhandler fram en løsning med litt redusert pris, slik at dere går videre med oppgaven med forutsetningene fra oppgave 1 uansett).\n",
    "\n",
    "\n"
   ]
  },
  {
   "cell_type": "code",
   "execution_count": null,
   "metadata": {},
   "outputs": [],
   "source": [
    "# Utregninger til 1d)"
   ]
  },
  {
   "cell_type": "markdown",
   "metadata": {},
   "source": [
    "Tolkning til oppgave 1d)"
   ]
  },
  {
   "cell_type": "markdown",
   "metadata": {},
   "source": [
    "## Oppgave 2,  Kvalitetskontroll med Shewart $\\overline{x}$-diagram\n",
    "Vi tenker oss nå at oppstartsfasen fra oppgave 1 er unnagjort, og at innstillingene fra denne er bra nok.\n",
    "\n",
    "Vi skal da først lage Shewart-diagrammer, og så bruke disse i en ordinær produksjonsfase. <br>\n",
    "Vi skal  holde rede på om innstillingene fortsatt er i orden, ved hjelp av daglige stikkprøver på vekten av $n=8$ fileter. \n"
   ]
  },
  {
   "cell_type": "markdown",
   "metadata": {},
   "source": [
    "### Oppgave 2a\n",
    "Bedriften ønsker å kontrollere om det inntreffer kvalitetsavvik ved å se på gjennomsnittsvekten av $n=8$ fileeter i en stikkprøve. <br>Formuler situasjonen som en hypotese (som skal testes i $\\overline{x}$-diagram).\n",
    "\n",
    "Forutsett i denne deloppgaven at gjennomsnittvekten etter en stund har avtatt til 124 gram (uendret standardavvik).  \n",
    "\n",
    "Hva er da forventet antall dager (stikkprøver) før første registrerte kvalitetsavvik inntreffer ved bruk av Shewart $\\overline{x}$-diagram? \n"
   ]
  },
  {
   "cell_type": "markdown",
   "metadata": {},
   "source": [
    "Oppgave 2a, formulering av hypotesetesten:"
   ]
  },
  {
   "cell_type": "code",
   "execution_count": 10,
   "metadata": {},
   "outputs": [],
   "source": [
    "# Oppgave 2a, utregning av forventet antall dager (stikkprøver) før første feilaktige stopp av produksjonen:"
   ]
  },
  {
   "cell_type": "markdown",
   "metadata": {},
   "source": [
    "### Oppgave 2b\n",
    "Regn ut øvre og nedre kontrollgrenser (OKG og NKG) og øvre og nedre varselgrenser (OVG og NVG) i Shewart $\\overline{x}$-diagram basert på dataene i oppgave 1."
   ]
  },
  {
   "cell_type": "code",
   "execution_count": null,
   "metadata": {},
   "outputs": [],
   "source": [
    "# Løsning oppg 2b"
   ]
  },
  {
   "cell_type": "markdown",
   "metadata": {},
   "source": [
    "### Simulering av tenkt forløp av produksjonen til resten av oppgaven:"
   ]
  },
  {
   "cell_type": "code",
   "execution_count": 11,
   "metadata": {},
   "outputs": [],
   "source": [
    "# Det er ikke nøsvendig å forstå hvordan disse dataene er lagd.\n",
    "# Tvert i mot er det meningen du skal tro jeg har vært ute og veid 320 fisker.\n",
    "\n",
    "n=8        # Fortsatt 8 veiinger i hver stikkprøve\n",
    "k_ny= 40   # Skjema skal lages for 40 stikkprøver (dager)\n",
    "\n",
    "np.random.seed(seed = Gruppenr+1)\n",
    "A= np.zeros((k_ny,n))\n",
    "for i in range(0,k_ny):\n",
    "   for j in range(0,n):\n",
    "    A[i,j]= round(125.3 - i**2/1000 + 1.2*(1+i/20)*np.random.randn(),1)\n",
    "    \n",
    "Stikkprovedata=pd.DataFrame(A)\n",
    "\n",
    "sammendrag=Stikkprovedata.apply(pd.DataFrame.describe,axis=1)\n",
    "display(sammendrag)"
   ]
  },
  {
   "cell_type": "code",
   "execution_count": null,
   "metadata": {},
   "outputs": [],
   "source": []
  },
  {
   "cell_type": "markdown",
   "metadata": {},
   "source": [
    "### Oppgave 2c\n",
    "Dataene i \"Stikkprovedata\" simulert over er resultatene av en tenkt stikkprøveserie (med en stikkprøve per dag) i 40 dager, bortsett fra at i virkeligheten vil testserien stoppes og overhaling eller justering av produksjonsprosessen gjennomføres om Shewart-diagrammene tilsier dette. \n",
    "\n",
    "Lag først et enkelt Shewart $\\overline{x}$-diagram der du har med alle 40 gjennomsnittene (og dermed ignorerer at prosessen burde vært stoppet). Bruk diagrammet til å anslå ved hvilken stikkprøve (nummerert fra 0)  prosessen skulle bli stoppet i følge $\\overline{x}$-diagrammet?"
   ]
  },
  {
   "cell_type": "code",
   "execution_count": null,
   "metadata": {},
   "outputs": [],
   "source": [
    "# Utregninger til 2b)"
   ]
  },
  {
   "cell_type": "markdown",
   "metadata": {},
   "source": [
    "Konklusjon, oppgave 2c:\n",
    "    "
   ]
  },
  {
   "cell_type": "markdown",
   "metadata": {},
   "source": [
    "### Oppgave 2d\n",
    "Lag en litt mer forseggjort  figur med  Shewart $\\overline{x}$-diagram med kontroll- og varselsgrenser kargjort for $k=40$ stikkprøver, men dataene er bare fylt ut til og med den dagen prosessen ville stoppet om dette var en virkelig kvalitetskontroll."
   ]
  },
  {
   "cell_type": "code",
   "execution_count": null,
   "metadata": {},
   "outputs": [],
   "source": [
    "# Utregning/plot til oppgave 2c"
   ]
  },
  {
   "cell_type": "markdown",
   "metadata": {},
   "source": [
    "## Oppgave 3, $s$-diagram for spredning.\n",
    "I denne oppgaven skal dere gjøre omtrent det samme som for $\\overline{x}$-diagrammet, bortsett fra at det er et spredningdiagram som skal brukes."
   ]
  },
  {
   "cell_type": "markdown",
   "metadata": {},
   "source": [
    "### Oppgave 3a\n",
    "Regn ut øvre og nedre kontrollgrense i $s$-diagram fra forsøksdataene i oppgave 1.\n"
   ]
  },
  {
   "cell_type": "code",
   "execution_count": null,
   "metadata": {},
   "outputs": [],
   "source": [
    "# Utregninger til oppgave 3a"
   ]
  },
  {
   "cell_type": "markdown",
   "metadata": {},
   "source": [
    "### Oppgave 3b\n",
    "Lag et enkelt spredingsdiagram ($s$-diagram) med kontrollgrensene og alle standardavvikene for de 40 stikkprøvene.\n",
    "\n",
    "Bruk dette til å anslå hvilken dag prosessen egentlig burde vært stoppet i følge $s$-diagrammet."
   ]
  },
  {
   "cell_type": "code",
   "execution_count": null,
   "metadata": {},
   "outputs": [],
   "source": [
    "# Utregning/plot til oppgave 3b"
   ]
  },
  {
   "cell_type": "markdown",
   "metadata": {},
   "source": [
    "### Oppgave 3c\n",
    "Lag en littt finere figur med  $s$-diagram kargjort for $k=40$ stikkprøver, men dataene bare fylt ut til og med den dagen (stikkprøven) gir at produksjonen må stoppes for rejustering. \n",
    "\n",
    "Hvilken dag burde prosessen vært stoppet om vi brukte både $\\overline{x}$ og $s$-diagram (som man vanligvis gjør)."
   ]
  },
  {
   "cell_type": "code",
   "execution_count": null,
   "metadata": {},
   "outputs": [],
   "source": [
    "# Utregning/plot til oppgave 3c"
   ]
  },
  {
   "cell_type": "markdown",
   "metadata": {},
   "source": [
    "Oppgavesettet er laget av Ketil Arnesen i 2020 og revidert av Hans Petter Hornæs i 2021."
   ]
  }
 ],
 "metadata": {
  "kernelspec": {
   "display_name": "Python 3",
   "language": "python",
   "name": "python3"
  },
  "language_info": {
   "codemirror_mode": {
    "name": "ipython",
    "version": 3
   },
   "file_extension": ".py",
   "mimetype": "text/x-python",
   "name": "python",
   "nbconvert_exporter": "python",
   "pygments_lexer": "ipython3",
   "version": "3.7.6"
  }
 },
 "nbformat": 4,
 "nbformat_minor": 4
}
