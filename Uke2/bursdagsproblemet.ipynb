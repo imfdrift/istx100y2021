{
 "cells": [
  {
   "cell_type": "markdown",
   "metadata": {
    "tags": []
   },
   "source": [
    "# Bursdagsproblemet\n",
    "\n",
    "For én tilfeldig valgt person antar vi at alle datoer i året (365) er like sannsynlige å ha som bursdag. Vi skal trekke $n$ personer tilfeldig og regne ut sannsynligheten for at minst to av disse har bursdag på samme dag. Under de gitte antagelsene kan du regne ut dette \"for hånd\", men her skal vi estimere denne sannsynligheten ved å kjøre en simulering. \n",
    "\n",
    "I hver iterasjon i simuleringen (for-løkka) trekker vi tilfeldige tall mellom 1 og 365 for de $n$ personene. Dersom to eller flere personer ble tildelt det samme tallet, registrerer vi en \"suksess\" ($x = 1$). Dersom alle de $n$ personene fikk tildelt ulike bursdager, registrerer vi en \"fiasko\" ($x = 0$). Til slutt teller vi opp alle suksesser og deler på antall simuleringer for å få et estimat på sannsynligheten for at minst to personer i en gruppe på $n$ mennesker har bursdag på samme dag. "
   ]
  },
  {
   "cell_type": "code",
   "execution_count": 1,
   "metadata": {},
   "outputs": [],
   "source": [
    "import numpy as np"
   ]
  },
  {
   "cell_type": "markdown",
   "metadata": {},
   "source": [
    "## Nyttige funksjoner"
   ]
  },
  {
   "cell_type": "code",
   "execution_count": 2,
   "metadata": {},
   "outputs": [
    {
     "data": {
      "text/plain": [
       "array([2, 1, 4])"
      ]
     },
     "execution_count": 2,
     "metadata": {},
     "output_type": "execute_result"
    }
   ],
   "source": [
    "np.random.choice(5,3) # for å trekke tilfeldige tall, 5 betyr at vi trekker fra tallene (0,1,2,3,4), og 3 at vi trekker tre tall"
   ]
  },
  {
   "cell_type": "code",
   "execution_count": 3,
   "metadata": {},
   "outputs": [
    {
     "data": {
      "text/plain": [
       "array([1, 2, 4, 5])"
      ]
     },
     "execution_count": 3,
     "metadata": {},
     "output_type": "execute_result"
    }
   ],
   "source": [
    "np.unique([1,2,4,5,2,4,2]) # returnerer kun de unike tallene i denne arrayen"
   ]
  },
  {
   "cell_type": "markdown",
   "metadata": {},
   "source": [
    "## Simulering 1\n",
    "\n",
    "Her kan man regne eksakt - og det er lagt opp til det i oppgaven - men du kan også simulere. Slik gjøres simuleringen."
   ]
  },
  {
   "cell_type": "code",
   "execution_count": null,
   "metadata": {},
   "outputs": [],
   "source": [
    "n_sim = 100000 # Antall simuleringer du vil gjøre\n",
    "n = 23 # Antall personer som skal velges ut\n",
    "dager = 365\n",
    "\n",
    "x =  np.zeros(n_sim) # initialiserer x-vektor med bare 0-eller\n",
    "\n",
    "for i in range(n_sim):\n",
    "    bursdager = np.random.choice(dager, n) # trekker tilfeldige datoer\n",
    "    if len(np.unique(bursdager)) < n:  # Dersom det ikke er like mange unike bursdager som det er personer\n",
    "        x[i] = 1\n",
    "        \n",
    "estimat = sum(x)/n_sim\n",
    "print(estimat)"
   ]
  },
  {
   "cell_type": "markdown",
   "metadata": {},
   "source": [
    "## Simulering 2\n",
    "\n",
    "I simulering 1 antok vi at for en tilfeldig valgt person var alle dager i året like sannsynlige for å ha bursdag (1/365). I realiteten vet vi at noen måneder er mer \"populære\" enn andre. Vi har hentet data på antall fødsler i Norge per måned i 2001 (ikke et skuddår), fra SSB: https://www.ssb.no/statbank/table/05531/. Disse dataene bruker vi til å anslå sannsynlighet for å være født i de ulike månedene. Vi antar at alle dager innenfor en gitt måned er like sannsynlige. "
   ]
  },
  {
   "cell_type": "code",
   "execution_count": null,
   "metadata": {},
   "outputs": [],
   "source": [
    "antall_fødsler = np.array([4959, 4495, 4958, 5009, 5018, 4955, 4919, 4852, 4742, 4555, 4153, 4081])\n",
    "andel_fødsler = antall_fødsler/sum(antall_fødsler)\n",
    "\n",
    "mnd_dager = [31,28,31,30,31,30,31,31,30,31,30,31]\n",
    "\n",
    "daglig_prob = [andel_fødsler[0]/mnd_dager[0]]*mnd_dager[0] # initialisere\n",
    "\n",
    "for i in range(1,12):\n",
    "    daglig_prob = daglig_prob + [andel_fødsler[i]/mnd_dager[i]]*mnd_dager[i]\n",
    "    \n",
    "# set(daglig_prob) # se på daglige sannsynligheter i hver mnd\n",
    "# 1/365            # sammenligne med antagelsen i simulering 1"
   ]
  },
  {
   "cell_type": "code",
   "execution_count": null,
   "metadata": {},
   "outputs": [],
   "source": [
    "print(np.unique(daglig_prob)) # har fått 12 unike sannsynligheter, en for dagene i hver måned - men husk at daglig_prob har 365 elementer - og det er 12 unike verdier"
   ]
  },
  {
   "cell_type": "code",
   "execution_count": null,
   "metadata": {},
   "outputs": [],
   "source": [
    "n_sim = 100000 # Antall simuleringer du vil gjøre\n",
    "n = 50 # Antall personer som skal velges ut\n",
    "dager = 365\n",
    "\n",
    "y = np.zeros(n_sim) # initialiserer y-vektor med bare 0-eller\n",
    "\n",
    "for i in range(n_sim):\n",
    "    bursdager = np.random.choice(dager, n, daglig_prob) # trekker tilfeldige datoer\n",
    "    if len(np.unique(bursdager)) < n:  # Dersom det ikke er like mange unike bursdager som det er personer\n",
    "        y[i] = 1\n",
    "        \n",
    "estimat = sum(y)/n_sim\n",
    "print(estimat)"
   ]
  },
  {
   "cell_type": "code",
   "execution_count": null,
   "metadata": {},
   "outputs": [],
   "source": []
  }
 ],
 "metadata": {
  "kernelspec": {
   "display_name": "Python 3 (ipykernel)",
   "language": "python",
   "name": "python3"
  },
  "language_info": {
   "codemirror_mode": {
    "name": "ipython",
    "version": 3
   },
   "file_extension": ".py",
   "mimetype": "text/x-python",
   "name": "python",
   "nbconvert_exporter": "python",
   "pygments_lexer": "ipython3",
   "version": "3.9.6"
  }
 },
 "nbformat": 4,
 "nbformat_minor": 4
}
