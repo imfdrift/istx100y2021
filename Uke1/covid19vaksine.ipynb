{
 "cells": [
  {
   "cell_type": "markdown",
   "metadata": {},
   "source": [
    "# Vaksinasjonsdata Covid19"
   ]
  },
  {
   "cell_type": "markdown",
   "metadata": {},
   "source": [
    "På FHIs nettsier https://statistikk.fhi.no/sysvak kan vi til enhver tid hente oppdaterte data på antall vaksinerte personer i Norge (første og andre dose). Tallene som vises her ble hentet 15. april 2021 klokka 08:05. Totalt antall personer (i ulike aldersgrupper) per 1. januar 2021 har vi hentet fra Statistisk Sentralbyrå https://www.ssb.no/befolkning/statistikker/folkemengde/aar-per-1-januar (Tabell 2)."
   ]
  },
  {
   "cell_type": "markdown",
   "metadata": {},
   "source": [
    "## Læringsmål: Diskrete data\n",
    "\n",
    "### Delmål\n",
    "1. Hente data fra en nettside og sette opp et enkelt datasett\n",
    "2. Regne ut gjennomsnitt og median\n",
    "3. Plotte diskrete data i et histogram\n",
    "4. Plotte diskrete data gruppevis\n",
    "\n",
    "*Hva er relevant for tellende vurdering? Erfaringen med å håndtere datasett i Python får du nytte av i den tellende prosjektoppgaven, og i resten av utdanningen din. Du skal ikke skrive kode selv på eksamen, men du må kunne lese, tolke og forklare utskrift og plott fra ulike statistikk-beregninger i Python.*\n",
    "\n",
    "### Utfordring!\n",
    "Oppdater dataene på antall vaksinerte kvinner og menn ved å gå til https://statistikk.fhi.no/sysvak og finn dagens tall."
   ]
  },
  {
   "cell_type": "markdown",
   "metadata": {},
   "source": [
    "## Steg 1: Laste inn nødvendige python-pakker\n",
    "\n",
    "Notebook-tips: Kjør koden som henter inn pakkene ved å trykke på feltet under og deretter knappen \"Run\" øverst på kommandolinja, eller bruk tastatursnarveien cmd + enter."
   ]
  },
  {
   "cell_type": "code",
   "execution_count": 12,
   "metadata": {},
   "outputs": [],
   "source": [
    "import pandas as pd # lese data fra excel-fil\n",
    "import seaborn as sns # plotting\n",
    "sns.set(style = 'whitegrid', font_scale = 1.5) # utseende av plott\n",
    "import matplotlib.pyplot as plt # og mer plotting\n",
    "import numpy as np # matematikk\n",
    "import statistics as statistics  # statistikk-funksjoner"
   ]
  },
  {
   "cell_type": "markdown",
   "metadata": {},
   "source": [
    "## Steg 2: Lage et datasett"
   ]
  },
  {
   "cell_type": "code",
   "execution_count": 6,
   "metadata": {},
   "outputs": [
    {
     "data": {
      "text/plain": [
       "{'kvinner': [1452088, 581889, 188971],\n",
       " 'menn': [1755128, 379749, 109886],\n",
       " 'total': [3207216, 961638, 298857]}"
      ]
     },
     "execution_count": 6,
     "metadata": {},
     "output_type": "execute_result"
    }
   ],
   "source": [
    "antall_kvinner = 2671280 - 137359 - 151289 - 159684 # (over 15 år) per 1. januar 2021 (SSB)\n",
    "antall_menn = 2718017 - 145601 - 159283 - 168370 # (over 15 år) per 1. januar 2021 (SSB)\n",
    "dose1_kvinner = 581889 # per 15. april 2021 (FHI SYSVAK, du kan oppdatere selv!)\n",
    "dose2_kvinner = 188971 # per 15. april 2021 (FHI SYSVAK, du kan oppdatere selv!)\n",
    "dose1_menn = 379749 # per 15. april 2021 (FHI SYSVAK, du kan oppdatere selv!)\n",
    "dose2_menn = 109886 # per 15. april 2021 (FHI SYSVAK, du kan oppdatere selv!)\n",
    "\n",
    "dose0_kvinner = antall_kvinner - dose1_kvinner - dose2_kvinner\n",
    "dose0_menn = antall_menn - dose1_menn - dose2_menn\n",
    "\n",
    "vaksine = {'kvinner': [dose0_kvinner, dose1_kvinner, dose2_kvinner],\n",
    "            'menn': [dose0_menn, dose1_menn, dose2_menn],\n",
    "          'total': [dose0_kvinner + dose0_menn, \n",
    "                    dose1_kvinner + dose1_menn, \n",
    "                    dose2_kvinner + dose2_menn]}\n",
    "vaksine"
   ]
  },
  {
   "cell_type": "code",
   "execution_count": 7,
   "metadata": {},
   "outputs": [
    {
     "data": {
      "text/html": [
       "<div>\n",
       "<style scoped>\n",
       "    .dataframe tbody tr th:only-of-type {\n",
       "        vertical-align: middle;\n",
       "    }\n",
       "\n",
       "    .dataframe tbody tr th {\n",
       "        vertical-align: top;\n",
       "    }\n",
       "\n",
       "    .dataframe thead th {\n",
       "        text-align: right;\n",
       "    }\n",
       "</style>\n",
       "<table border=\"1\" class=\"dataframe\">\n",
       "  <thead>\n",
       "    <tr style=\"text-align: right;\">\n",
       "      <th></th>\n",
       "      <th>kvinner</th>\n",
       "      <th>menn</th>\n",
       "      <th>total</th>\n",
       "    </tr>\n",
       "  </thead>\n",
       "  <tbody>\n",
       "    <tr>\n",
       "      <th>0</th>\n",
       "      <td>1452088</td>\n",
       "      <td>1755128</td>\n",
       "      <td>3207216</td>\n",
       "    </tr>\n",
       "    <tr>\n",
       "      <th>1</th>\n",
       "      <td>581889</td>\n",
       "      <td>379749</td>\n",
       "      <td>961638</td>\n",
       "    </tr>\n",
       "    <tr>\n",
       "      <th>2</th>\n",
       "      <td>188971</td>\n",
       "      <td>109886</td>\n",
       "      <td>298857</td>\n",
       "    </tr>\n",
       "  </tbody>\n",
       "</table>\n",
       "</div>"
      ],
      "text/plain": [
       "   kvinner     menn    total\n",
       "0  1452088  1755128  3207216\n",
       "1   581889   379749   961638\n",
       "2   188971   109886   298857"
      ]
     },
     "execution_count": 7,
     "metadata": {},
     "output_type": "execute_result"
    }
   ],
   "source": [
    "# Legge dataene i en pandas DataFrame\n",
    "df = pd.DataFrame(vaksine)\n",
    "df"
   ]
  },
  {
   "cell_type": "markdown",
   "metadata": {},
   "source": [
    "## Steg 3: Regne ut gjennomsnitt og median"
   ]
  },
  {
   "cell_type": "code",
   "execution_count": 8,
   "metadata": {},
   "outputs": [
    {
     "data": {
      "text/plain": [
       "0.3490270521078915"
      ]
     },
     "execution_count": 8,
     "metadata": {},
     "output_type": "execute_result"
    }
   ],
   "source": [
    "# Gjennomsnitt kan vi regne ut direkte fra tabellen\n",
    "gjsnitt = (0*df.iloc[0,2] + 1*df.iloc[1,2] + 2*df.iloc[2,2])/(df.iloc[0,2]+df.iloc[1,2] + df.iloc[2,2])\n",
    "gjsnitt"
   ]
  },
  {
   "cell_type": "code",
   "execution_count": 9,
   "metadata": {},
   "outputs": [
    {
     "data": {
      "text/plain": [
       "0"
      ]
     },
     "execution_count": 9,
     "metadata": {},
     "output_type": "execute_result"
    }
   ],
   "source": [
    "# Median kan vi f.eks finne dersom vi lager oss en liste med vaksinedose for hver person\n",
    "# (OBS: For april-dataene kan vi direkte lese av median = 0 fra tabellen)\n",
    "vaksinedoser = [0]*df.iloc[0,2] + [1]*df.iloc[1,2] + [2]*df.iloc[2,2] # Legger sammen lister av 0, 1, og 2 vaksinedoser med lengder som spesifisert i tabell\n",
    "\n",
    "statistics.median(vaksinedoser)"
   ]
  },
  {
   "cell_type": "markdown",
   "metadata": {},
   "source": [
    "## Steg 4: Regne ut andeler og plotte histogram"
   ]
  },
  {
   "cell_type": "code",
   "execution_count": 10,
   "metadata": {},
   "outputs": [
    {
     "data": {
      "text/html": [
       "<div>\n",
       "<style scoped>\n",
       "    .dataframe tbody tr th:only-of-type {\n",
       "        vertical-align: middle;\n",
       "    }\n",
       "\n",
       "    .dataframe tbody tr th {\n",
       "        vertical-align: top;\n",
       "    }\n",
       "\n",
       "    .dataframe thead th {\n",
       "        text-align: right;\n",
       "    }\n",
       "</style>\n",
       "<table border=\"1\" class=\"dataframe\">\n",
       "  <thead>\n",
       "    <tr style=\"text-align: right;\">\n",
       "      <th></th>\n",
       "      <th>kvinner</th>\n",
       "      <th>menn</th>\n",
       "      <th>total</th>\n",
       "      <th>dose</th>\n",
       "    </tr>\n",
       "  </thead>\n",
       "  <tbody>\n",
       "    <tr>\n",
       "      <th>0</th>\n",
       "      <td>0.653226</td>\n",
       "      <td>0.781877</td>\n",
       "      <td>0.717866</td>\n",
       "      <td>0</td>\n",
       "    </tr>\n",
       "    <tr>\n",
       "      <th>1</th>\n",
       "      <td>0.261765</td>\n",
       "      <td>0.169171</td>\n",
       "      <td>0.215242</td>\n",
       "      <td>1</td>\n",
       "    </tr>\n",
       "    <tr>\n",
       "      <th>2</th>\n",
       "      <td>0.085009</td>\n",
       "      <td>0.048952</td>\n",
       "      <td>0.066893</td>\n",
       "      <td>2</td>\n",
       "    </tr>\n",
       "  </tbody>\n",
       "</table>\n",
       "</div>"
      ],
      "text/plain": [
       "    kvinner      menn     total  dose\n",
       "0  0.653226  0.781877  0.717866     0\n",
       "1  0.261765  0.169171  0.215242     1\n",
       "2  0.085009  0.048952  0.066893     2"
      ]
     },
     "execution_count": 10,
     "metadata": {},
     "output_type": "execute_result"
    }
   ],
   "source": [
    "# Regner vi ut andeler og lagrer i ny DataFrame\n",
    "dfandel = df.div(df.sum(axis=0),axis=1)\n",
    "dfandel['dose'] = [0,1,2]\n",
    "dfandel"
   ]
  },
  {
   "cell_type": "code",
   "execution_count": 13,
   "metadata": {},
   "outputs": [
    {
     "data": {
      "image/png": "[encoded data removed]",
      "text/plain": [
       "<Figure size 432x288 with 1 Axes>"
      ]
     },
     "metadata": {},
     "output_type": "display_data"
    }
   ],
   "source": [
    "# Så plotter vi andeler personer mot antall vaksinedoser\n",
    "sns.barplot(x = 'dose', y = 'total', data = dfandel, color = 'steelblue')\n",
    "plt.ylabel(\"Andel personer over 15 år\")\n",
    "plt.xlabel(\"Antall doser\")"
   ]
  },
  {
   "cell_type": "markdown",
   "metadata": {},
   "source": [
    "## Steg 5: Plotte histogram for grupper"
   ]
  },
  {
   "cell_type": "code",
   "execution_count": 14,
   "metadata": {},
   "outputs": [
    {
     "data": {
      "text/html": [
       "<div>\n",
       "<style scoped>\n",
       "    .dataframe tbody tr th:only-of-type {\n",
       "        vertical-align: middle;\n",
       "    }\n",
       "\n",
       "    .dataframe tbody tr th {\n",
       "        vertical-align: top;\n",
       "    }\n",
       "\n",
       "    .dataframe thead th {\n",
       "        text-align: right;\n",
       "    }\n",
       "</style>\n",
       "<table border=\"1\" class=\"dataframe\">\n",
       "  <thead>\n",
       "    <tr style=\"text-align: right;\">\n",
       "      <th></th>\n",
       "      <th>dose</th>\n",
       "      <th>kjønn</th>\n",
       "      <th>value</th>\n",
       "    </tr>\n",
       "  </thead>\n",
       "  <tbody>\n",
       "    <tr>\n",
       "      <th>0</th>\n",
       "      <td>0</td>\n",
       "      <td>menn</td>\n",
       "      <td>0.781877</td>\n",
       "    </tr>\n",
       "    <tr>\n",
       "      <th>1</th>\n",
       "      <td>1</td>\n",
       "      <td>menn</td>\n",
       "      <td>0.169171</td>\n",
       "    </tr>\n",
       "    <tr>\n",
       "      <th>2</th>\n",
       "      <td>2</td>\n",
       "      <td>menn</td>\n",
       "      <td>0.048952</td>\n",
       "    </tr>\n",
       "    <tr>\n",
       "      <th>3</th>\n",
       "      <td>0</td>\n",
       "      <td>kvinner</td>\n",
       "      <td>0.653226</td>\n",
       "    </tr>\n",
       "    <tr>\n",
       "      <th>4</th>\n",
       "      <td>1</td>\n",
       "      <td>kvinner</td>\n",
       "      <td>0.261765</td>\n",
       "    </tr>\n",
       "    <tr>\n",
       "      <th>5</th>\n",
       "      <td>2</td>\n",
       "      <td>kvinner</td>\n",
       "      <td>0.085009</td>\n",
       "    </tr>\n",
       "  </tbody>\n",
       "</table>\n",
       "</div>"
      ],
      "text/plain": [
       "   dose    kjønn     value\n",
       "0     0     menn  0.781877\n",
       "1     1     menn  0.169171\n",
       "2     2     menn  0.048952\n",
       "3     0  kvinner  0.653226\n",
       "4     1  kvinner  0.261765\n",
       "5     2  kvinner  0.085009"
      ]
     },
     "execution_count": 14,
     "metadata": {},
     "output_type": "execute_result"
    }
   ],
   "source": [
    "# For å enklest plotte grupperte data må vi endre \n",
    "# formen på datasettet med funksjonen 'melt'\n",
    "\n",
    "dfandelkjønn = dfandel[['dose','menn','kvinner']].melt('dose', var_name = 'kjønn')\n",
    "dfandelkjønn"
   ]
  },
  {
   "cell_type": "code",
   "execution_count": 15,
   "metadata": {},
   "outputs": [
    {
     "data": {
      "image/png": "[encoded data removed]",
      "text/plain": [
       "<Figure size 432x288 with 1 Axes>"
      ]
     },
     "metadata": {},
     "output_type": "display_data"
    }
   ],
   "source": [
    "sns.barplot(x = 'dose', y = 'value', hue = 'kjønn', data = dfandelkjønn)\n",
    "plt.ylabel(\"Andel kvinner og menn over 15 år\")\n",
    "plt.xlabel(\"Antall doser\")"
   ]
  }
 ],
 "metadata": {
  "kernelspec": {
   "display_name": "Python 3",
   "language": "python",
   "name": "python3"
  },
  "language_info": {
   "codemirror_mode": {
    "name": "ipython",
    "version": 3
   },
   "file_extension": ".py",
   "mimetype": "text/x-python",
   "name": "python",
   "nbconvert_exporter": "python",
   "pygments_lexer": "ipython3",
   "version": "3.8.5"
  }
 },
 "nbformat": 4,
 "nbformat_minor": 4
}
