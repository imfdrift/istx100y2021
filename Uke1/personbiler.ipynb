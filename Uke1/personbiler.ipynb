{
 "cells": [
  {
   "cell_type": "markdown",
   "metadata": {},
   "source": [
    "# Personbiler i Norge"
   ]
  },
  {
   "cell_type": "markdown",
   "metadata": {},
   "source": [
    "Datasettet `personbildata.csv` er konstruert fra statistikkbanken \"Bilparken\", tabell 07849, fra statistisk senstralbyrå (https://www.ssb.no/statbank/list/bilreg/). Datasettet innholder tall på antall registrerte personbiler i årene 2008 til 2020, gruppert i henhold til drivstofftypene bensin, diesel, el., og annet (inkludert hybrid). Fra SSB får man data per kommune, men her har vi allerede aggregert dataene over alle kommuner slik at tallene representerer antall biler i hver drivstoff-kategori over hele landet. "
   ]
  },
  {
   "cell_type": "markdown",
   "metadata": {},
   "source": [
    "## Læringsmål: Kategoriske data\n",
    "\n",
    "### Delmål\n",
    "1. Lese inn .csv fil og gjøre seg kjent med et enkelt datasett\n",
    "2. Plotte kategoriske data i stolpediagram \n",
    "3. Plotte utvikling av kategoriene over tid\n",
    "\n",
    "*Hva er relevant for tellende vurdering? Erfaringen med å håndtere datasett i Python får du nytte av i den tellende prosjektoppgaven, og i resten av utdanningen din. Du skal ikke skrive kode selv på eksamen, men du må kunne lese, tolke og forklare utskrift og plott fra ulike statistikk-beregninger i Python.*"
   ]
  },
  {
   "cell_type": "markdown",
   "metadata": {},
   "source": [
    "## Steg 1: Laste inn nødvendige python-pakker\n",
    "\n",
    "Notebook-tips: Kjør koden som henter inn pakkene ved å trykke på feltet under og deretter knappen \"Run\" øverst på kommandolinja, eller bruk tastatursnarveien cmd + enter."
   ]
  },
  {
   "cell_type": "code",
   "execution_count": 5,
   "metadata": {},
   "outputs": [],
   "source": [
    "import pandas as pd # lese data fra csv-fil\n",
    "import seaborn as sns # plotting\n",
    "sns.set(style = 'whitegrid', font_scale = 1.5) # utseende av plott\n",
    "import matplotlib.pyplot as plt # og mer plotting\n",
    "import numpy as np # matematikk"
   ]
  },
  {
   "cell_type": "markdown",
   "metadata": {},
   "source": [
    "## Steg 2: Lese inn og se på datasettet\n"
   ]
  },
  {
   "cell_type": "code",
   "execution_count": 6,
   "metadata": {},
   "outputs": [],
   "source": [
    "df = pd.read_csv('https://www.math.ntnu.no/emner/IST100x/python_felles/personbildata.csv',index_col=0) # lese inn datasettet (cvs-fil med radnavn)"
   ]
  },
  {
   "cell_type": "code",
   "execution_count": 3,
   "metadata": {},
   "outputs": [
    {
     "data": {
      "text/plain": [
       "(13, 4)"
      ]
     },
     "execution_count": 3,
     "metadata": {},
     "output_type": "execute_result"
    }
   ],
   "source": [
    "df.shape  # Dimensjonen til datasettet"
   ]
  },
  {
   "cell_type": "code",
   "execution_count": 4,
   "metadata": {},
   "outputs": [
    {
     "data": {
      "text/html": [
       "<div>\n",
       "<style scoped>\n",
       "    .dataframe tbody tr th:only-of-type {\n",
       "        vertical-align: middle;\n",
       "    }\n",
       "\n",
       "    .dataframe tbody tr th {\n",
       "        vertical-align: top;\n",
       "    }\n",
       "\n",
       "    .dataframe thead th {\n",
       "        text-align: right;\n",
       "    }\n",
       "</style>\n",
       "<table border=\"1\" class=\"dataframe\">\n",
       "  <thead>\n",
       "    <tr style=\"text-align: right;\">\n",
       "      <th></th>\n",
       "      <th>bensin</th>\n",
       "      <th>diesel</th>\n",
       "      <th>el</th>\n",
       "      <th>annet</th>\n",
       "    </tr>\n",
       "  </thead>\n",
       "  <tbody>\n",
       "    <tr>\n",
       "      <th>2008</th>\n",
       "      <td>1596852</td>\n",
       "      <td>597391</td>\n",
       "      <td>1693</td>\n",
       "      <td>126</td>\n",
       "    </tr>\n",
       "    <tr>\n",
       "      <th>2009</th>\n",
       "      <td>1550434</td>\n",
       "      <td>690560</td>\n",
       "      <td>1776</td>\n",
       "      <td>131</td>\n",
       "    </tr>\n",
       "    <tr>\n",
       "      <th>2010</th>\n",
       "      <td>1500841</td>\n",
       "      <td>804384</td>\n",
       "      <td>2068</td>\n",
       "      <td>144</td>\n",
       "    </tr>\n",
       "    <tr>\n",
       "      <th>2011</th>\n",
       "      <td>1448232</td>\n",
       "      <td>922986</td>\n",
       "      <td>3909</td>\n",
       "      <td>180</td>\n",
       "    </tr>\n",
       "    <tr>\n",
       "      <th>2012</th>\n",
       "      <td>1408198</td>\n",
       "      <td>1025220</td>\n",
       "      <td>8031</td>\n",
       "      <td>357</td>\n",
       "    </tr>\n",
       "    <tr>\n",
       "      <th>2013</th>\n",
       "      <td>1368625</td>\n",
       "      <td>1110621</td>\n",
       "      <td>17770</td>\n",
       "      <td>2070</td>\n",
       "    </tr>\n",
       "    <tr>\n",
       "      <th>2014</th>\n",
       "      <td>1328380</td>\n",
       "      <td>1186194</td>\n",
       "      <td>38652</td>\n",
       "      <td>999</td>\n",
       "    </tr>\n",
       "    <tr>\n",
       "      <th>2015</th>\n",
       "      <td>1295739</td>\n",
       "      <td>1243235</td>\n",
       "      <td>69134</td>\n",
       "      <td>1013</td>\n",
       "    </tr>\n",
       "    <tr>\n",
       "      <th>2016</th>\n",
       "      <td>1196148</td>\n",
       "      <td>1276947</td>\n",
       "      <td>97532</td>\n",
       "      <td>91054</td>\n",
       "    </tr>\n",
       "    <tr>\n",
       "      <th>2017</th>\n",
       "      <td>1139998</td>\n",
       "      <td>1294493</td>\n",
       "      <td>138983</td>\n",
       "      <td>144630</td>\n",
       "    </tr>\n",
       "    <tr>\n",
       "      <th>2018</th>\n",
       "      <td>1075179</td>\n",
       "      <td>1290442</td>\n",
       "      <td>195351</td>\n",
       "      <td>189650</td>\n",
       "    </tr>\n",
       "    <tr>\n",
       "      <th>2019</th>\n",
       "      <td>1031207</td>\n",
       "      <td>1281019</td>\n",
       "      <td>260692</td>\n",
       "      <td>226926</td>\n",
       "    </tr>\n",
       "    <tr>\n",
       "      <th>2020</th>\n",
       "      <td>950131</td>\n",
       "      <td>1246671</td>\n",
       "      <td>340002</td>\n",
       "      <td>272314</td>\n",
       "    </tr>\n",
       "  </tbody>\n",
       "</table>\n",
       "</div>"
      ],
      "text/plain": [
       "       bensin   diesel      el   annet\n",
       "2008  1596852   597391    1693     126\n",
       "2009  1550434   690560    1776     131\n",
       "2010  1500841   804384    2068     144\n",
       "2011  1448232   922986    3909     180\n",
       "2012  1408198  1025220    8031     357\n",
       "2013  1368625  1110621   17770    2070\n",
       "2014  1328380  1186194   38652     999\n",
       "2015  1295739  1243235   69134    1013\n",
       "2016  1196148  1276947   97532   91054\n",
       "2017  1139998  1294493  138983  144630\n",
       "2018  1075179  1290442  195351  189650\n",
       "2019  1031207  1281019  260692  226926\n",
       "2020   950131  1246671  340002  272314"
      ]
     },
     "execution_count": 4,
     "metadata": {},
     "output_type": "execute_result"
    }
   ],
   "source": [
    "df # se på hele datasettet (dette kan vi gjøre fordi dimensjonen er liten)"
   ]
  },
  {
   "cell_type": "markdown",
   "metadata": {},
   "source": [
    "## Steg 3: Stolpediagram for andeler av hver drivstofftype i år 2020"
   ]
  },
  {
   "cell_type": "code",
   "execution_count": 31,
   "metadata": {},
   "outputs": [
    {
     "data": {
      "text/html": [
       "<div>\n",
       "<style scoped>\n",
       "    .dataframe tbody tr th:only-of-type {\n",
       "        vertical-align: middle;\n",
       "    }\n",
       "\n",
       "    .dataframe tbody tr th {\n",
       "        vertical-align: top;\n",
       "    }\n",
       "\n",
       "    .dataframe thead th {\n",
       "        text-align: right;\n",
       "    }\n",
       "</style>\n",
       "<table border=\"1\" class=\"dataframe\">\n",
       "  <thead>\n",
       "    <tr style=\"text-align: right;\">\n",
       "      <th></th>\n",
       "      <th>bensin</th>\n",
       "      <th>diesel</th>\n",
       "      <th>el</th>\n",
       "      <th>annet</th>\n",
       "    </tr>\n",
       "  </thead>\n",
       "  <tbody>\n",
       "    <tr>\n",
       "      <th>2020</th>\n",
       "      <td>950131</td>\n",
       "      <td>1246671</td>\n",
       "      <td>340002</td>\n",
       "      <td>272314</td>\n",
       "    </tr>\n",
       "  </tbody>\n",
       "</table>\n",
       "</div>"
      ],
      "text/plain": [
       "      bensin   diesel      el   annet\n",
       "2020  950131  1246671  340002  272314"
      ]
     },
     "execution_count": 31,
     "metadata": {},
     "output_type": "execute_result"
    }
   ],
   "source": [
    "df2020 = df.iloc[12,].to_frame().transpose()  # Hente ut rad 12 (2020) til ny pandas DataFrame\n",
    "df2020"
   ]
  },
  {
   "cell_type": "code",
   "execution_count": 32,
   "metadata": {},
   "outputs": [
    {
     "data": {
      "text/html": [
       "<div>\n",
       "<style scoped>\n",
       "    .dataframe tbody tr th:only-of-type {\n",
       "        vertical-align: middle;\n",
       "    }\n",
       "\n",
       "    .dataframe tbody tr th {\n",
       "        vertical-align: top;\n",
       "    }\n",
       "\n",
       "    .dataframe thead th {\n",
       "        text-align: right;\n",
       "    }\n",
       "</style>\n",
       "<table border=\"1\" class=\"dataframe\">\n",
       "  <thead>\n",
       "    <tr style=\"text-align: right;\">\n",
       "      <th></th>\n",
       "      <th>bensin</th>\n",
       "      <th>diesel</th>\n",
       "      <th>el</th>\n",
       "      <th>annet</th>\n",
       "    </tr>\n",
       "  </thead>\n",
       "  <tbody>\n",
       "    <tr>\n",
       "      <th>2020</th>\n",
       "      <td>0.338231</td>\n",
       "      <td>0.443794</td>\n",
       "      <td>0.121035</td>\n",
       "      <td>0.096939</td>\n",
       "    </tr>\n",
       "  </tbody>\n",
       "</table>\n",
       "</div>"
      ],
      "text/plain": [
       "        bensin    diesel        el     annet\n",
       "2020  0.338231  0.443794  0.121035  0.096939"
      ]
     },
     "execution_count": 32,
     "metadata": {},
     "output_type": "execute_result"
    }
   ],
   "source": [
    "df2020 = df2020.div(df2020.sum(axis=1),axis=0) # Bytte ut antall med andel\n",
    "df2020"
   ]
  },
  {
   "cell_type": "code",
   "execution_count": 33,
   "metadata": {},
   "outputs": [
    {
     "data": {
      "text/plain": [
       "<AxesSubplot:>"
      ]
     },
     "execution_count": 33,
     "metadata": {},
     "output_type": "execute_result"
    },
    {
     "data": {
      "image/png": "[encoded data removed]",
      "text/plain": [
       "<Figure size 432x288 with 1 Axes>"
      ]
     },
     "metadata": {},
     "output_type": "display_data"
    }
   ],
   "source": [
    "palette = sns.color_palette([\"#d55e00\",\"#0072b2\",\"#009e73\", \"#f0e442\"]) \n",
    "# palette = farger for de fire drivstoff-kategoriene\n",
    "# Har hentet fargeblind-vennlige palett fra https://www.color-hex.com/color-palette/49436\n",
    "\n",
    "sns.barplot(data = df2020, palette = palette) \n",
    "# Plotter et enkelt stolpediagram (barplot) med Seaborn-modulen"
   ]
  },
  {
   "cell_type": "code",
   "execution_count": 8,
   "metadata": {},
   "outputs": [
    {
     "data": {
      "text/html": [
       "<div>\n",
       "<style scoped>\n",
       "    .dataframe tbody tr th:only-of-type {\n",
       "        vertical-align: middle;\n",
       "    }\n",
       "\n",
       "    .dataframe tbody tr th {\n",
       "        vertical-align: top;\n",
       "    }\n",
       "\n",
       "    .dataframe thead th {\n",
       "        text-align: right;\n",
       "    }\n",
       "</style>\n",
       "<table border=\"1\" class=\"dataframe\">\n",
       "  <thead>\n",
       "    <tr style=\"text-align: right;\">\n",
       "      <th></th>\n",
       "      <th>diesel</th>\n",
       "      <th>bensin</th>\n",
       "      <th>el</th>\n",
       "      <th>annet</th>\n",
       "    </tr>\n",
       "  </thead>\n",
       "  <tbody>\n",
       "    <tr>\n",
       "      <th>2020</th>\n",
       "      <td>0.443794</td>\n",
       "      <td>0.338231</td>\n",
       "      <td>0.121035</td>\n",
       "      <td>0.096939</td>\n",
       "    </tr>\n",
       "  </tbody>\n",
       "</table>\n",
       "</div>"
      ],
      "text/plain": [
       "        diesel    bensin        el     annet\n",
       "2020  0.443794  0.338231  0.121035  0.096939"
      ]
     },
     "execution_count": 8,
     "metadata": {},
     "output_type": "execute_result"
    }
   ],
   "source": [
    "df2020sort = df2020.sort_values(by = 2020,axis=1,ascending=False)\n",
    "# Sorterer dataene fra største til minste andel\n",
    "df2020sort"
   ]
  },
  {
   "cell_type": "code",
   "execution_count": 11,
   "metadata": {},
   "outputs": [
    {
     "data": {
      "image/png": "[encoded data removed]",
      "text/plain": [
       "<Figure size 432x288 with 1 Axes>"
      ]
     },
     "metadata": {},
     "output_type": "display_data"
    }
   ],
   "source": [
    "# Plotter de sorterte dataene (og sorterer fargene) \n",
    "palette_sort = sns.color_palette([\"#0072b2\",\"#d55e00\",\"#009e73\", \"#f0e442\"])\n",
    "\n",
    "sns.barplot(data = df2020sort,palette = palette_sort)\n"
   ]
  },
  {
   "cell_type": "markdown",
   "metadata": {},
   "source": [
    "## Steg 4: Plotte utvikling  over tid"
   ]
  },
  {
   "cell_type": "code",
   "execution_count": 34,
   "metadata": {},
   "outputs": [
    {
     "data": {
      "text/plain": [
       "(2008.0, 2020.0)"
      ]
     },
     "execution_count": 34,
     "metadata": {},
     "output_type": "execute_result"
    },
    {
     "data": {
      "image/png": "[encoded data removed]",
      "text/plain": [
       "<Figure size 432x288 with 1 Axes>"
      ]
     },
     "metadata": {},
     "output_type": "display_data"
    }
   ],
   "source": [
    "df_andel = df.div(df.sum(axis=1),axis=0) # Lager et datasett med årlige andeler i stedet for antall\n",
    "\n",
    "# Plotter utvikling i andeler av hver kategori med et Seaborn lineplot\n",
    "sns.lineplot(data = df_andel,palette = palette)\n",
    "plt.ylim(0,1); plt.xlim(2008,2020)"
   ]
  }
 ],
 "metadata": {
  "kernelspec": {
   "display_name": "Python 3",
   "language": "python",
   "name": "python3"
  },
  "language_info": {
   "codemirror_mode": {
    "name": "ipython",
    "version": 3
   },
   "file_extension": ".py",
   "mimetype": "text/x-python",
   "name": "python",
   "nbconvert_exporter": "python",
   "pygments_lexer": "ipython3",
   "version": "3.8.5"
  }
 },
 "nbformat": 4,
 "nbformat_minor": 4
}
