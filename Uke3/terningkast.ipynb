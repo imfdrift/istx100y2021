{
 "cells": [
  {
   "cell_type": "markdown",
   "metadata": {},
   "source": [
    "# Terningkast og stokastiske variabler\n",
    "\n",
    "I denne notatboken forsøker vi å illustrere sammenhengen mellom konsepter som vi lærte i uke 1 og teorien om stokastiske variabler fra uke 3. \n",
    "\n",
    "Vi skal se at det finnes en sammenheng mellom \n",
    "\n",
    "* gjennomsnitt og forventningsverdi, \n",
    "* empirisk standardavvik og standardavviket til en stokastisk variabel, og \n",
    "* empirisk korrelasjonskoeffisient til et datasettet og korrelasjonen mellom to stokastiske variabler. \n",
    "\n",
    "Disse sammenhengene kommer vi også tilbake til i uke 7 når vi introduserer *estimering* basert på tilfeldige utvalg. \n",
    "\n",
    "Når vi kaster en rettferdig terning har vi 6 mulige utfall; 1-er, 2-er, 3-er, 4-er, 5-er eller 6-er. Alle utfallene er like sannsynlige, f.eks er $P(\\text{2-er}) = 1/6$\n",
    "\n",
    "Vi kan definere en stokastisk variabel $X$ som representerer antall øyne på terningen i et terningkast. \n",
    "\n",
    "Vi sier gjerne at den stokastiske variabelen er en _funksjon som oversetter utfallene av et stokastisk forsøk til tall på tallinja_. \n",
    "\n",
    "Den stokastiske variabelen $X$ kan dermed ta verdiene $1, 2, 3, 4, 5, 6$, det er en diskret stokastisk variabel, og $P(X=x) = 1/6$ for $x = 1, 2, \\ldots, 6$. "
   ]
  },
  {
   "cell_type": "code",
   "execution_count": 1,
   "metadata": {},
   "outputs": [],
   "source": [
    "import numpy as np\n",
    "import math\n",
    "import matplotlib.pyplot as plt # plotting"
   ]
  },
  {
   "cell_type": "markdown",
   "metadata": {},
   "source": [
    "## Forventningsverdi\n",
    "\n",
    "Forventningsverdien til en diskret stokastisk variabel er gitt ved $\\text{E}(X) = \\sum_x x \\cdot P(X=x)$. For terningkastet vil dermed $\\text{E}(X) = 3.5$. Hvordan skal vi forstå dette begrepet *forventningsverdi*?\n",
    "\n",
    "I koden under simulerer vi $n$ terningkast og regner ut gjennomsnittet av antall øyne på terningen fra hvert kast. "
   ]
  },
  {
   "cell_type": "code",
   "execution_count": 2,
   "metadata": {},
   "outputs": [
    {
     "data": {
      "text/plain": [
       "5"
      ]
     },
     "execution_count": 2,
     "metadata": {},
     "output_type": "execute_result"
    }
   ],
   "source": [
    "# sjekker ut funksjonen vi vil bruke for å \"kaste terning\"\n",
    "# https://numpy.org/doc/stable/reference/random/generated/numpy.random.randint.html\n",
    "\n",
    "np.random.randint(1,7) # her får vi et tall mellom 1 og 6 (7-1) - øvre grense ikke med, men nedre grense er med"
   ]
  },
  {
   "cell_type": "code",
   "execution_count": 3,
   "metadata": {},
   "outputs": [
    {
     "name": "stdout",
     "output_type": "stream",
     "text": [
      "[4. 5. 6. 2. 2. 2. 1. 6. 6. 4.]\n",
      "3.8\n"
     ]
    }
   ],
   "source": [
    "n = 10 # antall kast vi skal gjøre\n",
    "\n",
    "x =  np.zeros(n) # initialiserer x-vektor med bare 0-er, den blir n lang\n",
    "\n",
    "for i in range(n):\n",
    "        x[i] = np.random.randint(1,7)  # trekker tilfeldig tall mellom 1 og 6 (7-1)\n",
    "\n",
    "print(x)\n",
    "gjsnitt = sum(x)/n\n",
    "print(gjsnitt)"
   ]
  },
  {
   "cell_type": "markdown",
   "metadata": {},
   "source": [
    "Vi har lyst til å plotte dette grafisk og se hvordan gjennomsnittet endrer seg når vi øker _n_, \n",
    "men først ser vi hvordan vi kan regne ut mange gjennomsnitt fra vår vektor _x_ som har lengte _n=10_ over.\n"
   ]
  },
  {
   "cell_type": "code",
   "execution_count": 4,
   "metadata": {},
   "outputs": [
    {
     "data": {
      "text/plain": [
       "array([ 4.,  9., 15., 17., 19., 21., 22., 28., 34., 38.])"
      ]
     },
     "execution_count": 4,
     "metadata": {},
     "output_type": "execute_result"
    }
   ],
   "source": [
    "# tester ut np.cumsum på x som hadde lengde 10 over\n",
    "np.cumsum(x)"
   ]
  },
  {
   "cell_type": "markdown",
   "metadata": {},
   "source": [
    "Dette er summen av ett tall, så av 2 og så videre. Hvis vi da deler på 1 til _n_ vår vi _n_ gjennomsnitt. "
   ]
  },
  {
   "cell_type": "code",
   "execution_count": 5,
   "metadata": {},
   "outputs": [
    {
     "name": "stdout",
     "output_type": "stream",
     "text": [
      "range(1, 11)\n",
      "[4.         4.5        5.         4.25       3.8        3.5\n",
      " 3.14285714 3.5        3.77777778 3.8       ]\n"
     ]
    }
   ],
   "source": [
    "print(range(1,n+1)) # vil gi tallene fra 1 til og med n\n",
    "gjsnvec=np.cumsum(x)/range(1,n+1)\n",
    "print(gjsnvec)"
   ]
  },
  {
   "cell_type": "markdown",
   "metadata": {},
   "source": [
    "Denne gjennomsnittsvektoren vil vi plotte, for å se hvordan den endrer seg når vi øker _n_.\n",
    "Under har vi satt _n_ til 1000 og plotter så gjennomsnittet som en funksjon av _n_. \n",
    "\n",
    "Vi bruker en pakke som heter seaborn for å lage et fin graf av antall kast mot gjennomsnittet av så mange kast."
   ]
  },
  {
   "cell_type": "code",
   "execution_count": 6,
   "metadata": {},
   "outputs": [
    {
     "data": {
      "image/png": "[encoded data removed]",
      "text/plain": [
       "<Figure size 432x288 with 1 Axes>"
      ]
     },
     "metadata": {
      "needs_background": "light"
     },
     "output_type": "display_data"
    }
   ],
   "source": [
    "n = 1000 # antall kast vi skal gjøre\n",
    "\n",
    "x =  np.zeros(n) # initialiserer x-vektor med bare 0-er, den blir n lang\n",
    "\n",
    "for i in range(n):\n",
    "        x[i] = np.random.randint(1,7)  # trekker tilfeldig tall mellom 1 og 6 (7-1)\n",
    "\n",
    "gjsnvec=np.cumsum(x)/range(1,n+1)\n",
    "plt.plot(range(1,n+1), gjsnvec,linewidth=0.7, markersize=1)\n",
    "plt.axhline(y=3.5, color='r', linestyle='-')\n",
    "plt.show()"
   ]
  },
  {
   "cell_type": "markdown",
   "metadata": {},
   "source": [
    "## Varians og standardavvik\n",
    "\n",
    "Variansen til en diskret stokastisk variabel er gitt ved $\\text{Var}(X) = \\sum_x (x - \\text{E}(X))^2 P(X=x)$. Variansen er faktisk forventningsverdien til $(X - \\text{E}(X))^2$. For terningkastet kan vi regne ut $\\text{Var}(X) = 2.917$ når vi runder av til tre desimaler. Standardavviket er kvadratroten av variansen, slik at $\\text{SD}(X) = 1.708$. \n",
    "\n",
    "Husker du empirisk standardavvik og varians fra første uke om beskrivende statistikk? Da definerte vi empirisk varians av $n$ observasjoner som \n",
    "$S^2 = \\frac{1}{n-1} \\sum_{i=1}^n (x_i - \\bar{x})^2$. \n",
    "\n",
    "I koden under simulerer vi $n$ terningkast og regner ut empirisk varians. Hva skjer når du øker antallet kast? "
   ]
  },
  {
   "cell_type": "code",
   "execution_count": 7,
   "metadata": {},
   "outputs": [
    {
     "name": "stdout",
     "output_type": "stream",
     "text": [
      "2.919191919191919\n"
     ]
    }
   ],
   "source": [
    "n = 100 # antall kast vi skal gjøre\n",
    "\n",
    "x =  np.zeros(n) # initialiserer x-vektor med bare 0-eller\n",
    "\n",
    "for i in range(n):\n",
    "        x[i] = np.random.randint(1,7)  # trekker tilfeldig tall mellom 1 og 6 (7-1)\n",
    "        \n",
    "gjsnitt = sum(x)/n\n",
    "varians = sum((x-gjsnitt)**2)/(n-1)\n",
    "print(varians)"
   ]
  },
  {
   "cell_type": "code",
   "execution_count": 8,
   "metadata": {},
   "outputs": [],
   "source": [
    "gjsnvec=np.cumsum(x)/range(1,n+1)\n",
    "#print(gjsnvec)"
   ]
  },
  {
   "cell_type": "markdown",
   "metadata": {},
   "source": [
    "NB: det blir en feilmelding her fordi vi regner empirisk varians også for 1 observasjon - og da blir nevneren 0. Vi bruker ikke denne verdien i plottet under og plotter fra 2."
   ]
  },
  {
   "cell_type": "code",
   "execution_count": 9,
   "metadata": {},
   "outputs": [
    {
     "name": "stdout",
     "output_type": "stream",
     "text": [
      "99\n"
     ]
    },
    {
     "name": "stderr",
     "output_type": "stream",
     "text": [
      "<ipython-input-9-8a65ab6109fd>:2: RuntimeWarning: invalid value encountered in true_divide\n",
      "  varvec=np.cumsum((x-gjsnvec)**2)/range(0,n)\n"
     ]
    }
   ],
   "source": [
    "print(max(range(0,n)))\n",
    "varvec=np.cumsum((x-gjsnvec)**2)/range(0,n) \n",
    "      \n",
    "#ja det blir feilmelding fordi vi deler på 0 når vi har 1 observasjon - men det skal vi aldri bruke\n",
    "#print(varvec[1:n])"
   ]
  },
  {
   "cell_type": "code",
   "execution_count": 10,
   "metadata": {},
   "outputs": [
    {
     "data": {
      "image/png": "[encoded data removed]",
      "text/plain": [
       "<Figure size 432x288 with 1 Axes>"
      ]
     },
     "metadata": {
      "needs_background": "light"
     },
     "output_type": "display_data"
    }
   ],
   "source": [
    "plt.plot(range(2,n+1), varvec[1:n],linewidth=0.7, markersize=1)\n",
    "plt.axhline(y=2.917, color='r', linestyle='-')\n",
    "plt.show()"
   ]
  },
  {
   "cell_type": "markdown",
   "metadata": {},
   "source": [
    "Sjekk om det blir \"bedre\" hvis du setter _n_ opp til 1000 eller 1000. Hva mener vi med \"bedre\" her?"
   ]
  },
  {
   "cell_type": "markdown",
   "metadata": {},
   "source": [
    "## Kovarians og korrelasjon\n",
    "\n",
    "Tenk deg at du har to terninger som du kaster samtidig. La $X$ representere antall øyne på den ene terningen, og la $Y$ representere antall øyne på den andre terningen. Siden det ikke er noen grunn til å tro at utfallet på den ene terningen kan påvirke utfallet på den andre terningen kan vi si at de to stokastiske variablene er uavhengige. Dermed vet vi også at $\\text{Cov}(X,Y) = 0$ og at korrelasjonen mellom $X$ og $Y$ er null. \n",
    "\n",
    "Hva har korrelasjon mellom to stokastiske variabler å gjøre med den empiriske korrelasjonskoeffisienten som vi regnet ut for parvise observasjoner i uke 1? Den empiriske korrelasjonskoeffisienten mellom $n$ parvise observasjoner definerte vi som $$\\rho = \\frac{\\sum_{i=1}^n (x_i - \\bar{x})(y_i - \\bar{y})}{\\sqrt{\\sum_{i=1}^n (x_i - \\bar{x})^2} \\sqrt{\\sum_{i=1}^n (y_i - \\bar{y})^2}}$$\n",
    "\n",
    "I koden under simulerer vi $n$ parvise terningkast og regner ut korrelasjon. Hva skjer når du øker antallet kast? "
   ]
  },
  {
   "cell_type": "code",
   "execution_count": 11,
   "metadata": {},
   "outputs": [
    {
     "name": "stdout",
     "output_type": "stream",
     "text": [
      "0.23987085512697984\n"
     ]
    }
   ],
   "source": [
    "n = 100 # antall kast vi skal gjøre\n",
    "\n",
    "x = np.zeros(n) # initialiserer x-vektor med bare 0-eller\n",
    "y = np.zeros(n) # initialiserer y-vektor med bare 0-eller\n",
    "\n",
    "for i in range(n):\n",
    "        x[i] = np.random.randint(1,7)  # trekker tilfeldig tall mellom 1 og 6 (7-1)\n",
    "        y[i] = np.random.randint(1,7)  # trekker tilfeldig tall mellom 1 og 6 (7-1)\n",
    "\n",
    "gjsnitt_x = sum(x)/n\n",
    "gjsnitt_y = sum(y)/n\n",
    "teller = sum((x-gjsnitt_x)*(y-gjsnitt_y))\n",
    "nevner = (math.sqrt(sum((x-gjsnitt_x)**2)))*(math.sqrt(sum((y-gjsnitt_y)**2)))\n",
    "korrelasjon = teller/nevner\n",
    "print(korrelasjon)"
   ]
  },
  {
   "cell_type": "markdown",
   "metadata": {},
   "source": [
    "## Konklusjon\n",
    "\n",
    "I denne notatboken har vi sammenlignet teoretisk egenskaper til en stokastiske variabel $X$, eller egenskaper ved sammenhengen mellom to stokastiske variabler $X$ og $Y$ - med empiriske mål vi lærte om i uke 1 om beskrivende statistikk. \n",
    "\n",
    "Her gjorde vi veldig mange identiske forsøk for å generere verdier for $X$ og $Y$, og så brukte vi formelen fra uke 1 om beskrivende statistikk og sjekket hvordan svaret vi fikk passet med de teoretiske begrepene vi har lært i uke 3 om Stokastiske variabler. "
   ]
  }
 ],
 "metadata": {
  "kernelspec": {
   "display_name": "Python 3",
   "language": "python",
   "name": "python3"
  },
  "language_info": {
   "codemirror_mode": {
    "name": "ipython",
    "version": 3
   },
   "file_extension": ".py",
   "mimetype": "text/x-python",
   "name": "python",
   "nbconvert_exporter": "python",
   "pygments_lexer": "ipython3",
   "version": "3.8.3"
  }
 },
 "nbformat": 4,
 "nbformat_minor": 4
}
