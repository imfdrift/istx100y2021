{
 "cells": [
  {
   "cell_type": "markdown",
   "metadata": {},
   "source": [
    "# Binomisk fordeling "
   ]
  },
  {
   "cell_type": "markdown",
   "metadata": {},
   "source": [
    "La $X$ være en stokastisk variabel slik at $X \\sim \\text{binomisk}(n,p)$. Vi sier at $X$ er binomisk fordelt med parametere $n$ og $p$. Den stokastiske variabelen representerer antall suksesser i $n$ uavhengige og identiske forsøk der sannsynligheten for suksess er $p$ i hvert forsøk. \n",
    "\n",
    "I denne notatboken illustres hvordan du kan regne ut sannsynligheter for $X$, og plotte sannsynlighetsfordelingen til $X$, ved bruk av python-kode."
   ]
  },
  {
   "cell_type": "code",
   "execution_count": 1,
   "metadata": {},
   "outputs": [],
   "source": [
    "from scipy import stats # statistikk-modulen i scipy-pakken\n",
    "import matplotlib.pyplot as plt # plotting"
   ]
  },
  {
   "cell_type": "markdown",
   "metadata": {},
   "source": [
    "## Punktsannsynligheter\n",
    "\n",
    "Vi lar $X$ være binomisk fordelt med parametere $n$ og $p$. For å regne ut sannsynligheten $P(X = x)$ bruker vi funksjonen `stats.binom.pmf(x,n,p)` fra stats-modulen i scipy-pakken, der \"pmf\" er en forkortelse for \"probability mass function\" (punksannsynlighet). \n",
    "\n",
    "Punktsannsynligheter for alle mulige verdier av $X$ kan illustreres i et sannsynlighetshistogram der høyden (og arealet) på en stolpe er punktsannsynligheten."
   ]
  },
  {
   "cell_type": "code",
   "execution_count": 2,
   "metadata": {},
   "outputs": [
    {
     "data": {
      "text/plain": [
       "0.21499084800000012"
      ]
     },
     "execution_count": 2,
     "metadata": {},
     "output_type": "execute_result"
    }
   ],
   "source": [
    "n = 10   # antall forsøk\n",
    "p = 0.4  # sannsynligheten for suksess\n",
    "x = 3    # det tallet vi vil regne på sannsynlighet for\n",
    "stats.binom.pmf(x,n,p)  # P(X = x)"
   ]
  },
  {
   "cell_type": "code",
   "execution_count": 3,
   "metadata": {},
   "outputs": [
    {
     "data": {
      "text/plain": [
       "0.21499084800000012"
      ]
     },
     "execution_count": 3,
     "metadata": {},
     "output_type": "execute_result"
    }
   ],
   "source": [
    "stats.binom.pmf(3,10,0.4) # vi kan også skrive tallene rett inn i formelen"
   ]
  },
  {
   "cell_type": "code",
   "execution_count": 4,
   "metadata": {},
   "outputs": [
    {
     "name": "stdout",
     "output_type": "stream",
     "text": [
      "[0, 1, 2, 3, 4, 5, 6, 7, 8, 9, 10, 11, 12, 13, 14, 15]\n",
      "15\n",
      "16\n"
     ]
    }
   ],
   "source": [
    "# vi bruker funksjonen range under - så vi kan sjekke den litt først\n",
    "print(list(range(0,16))) \n",
    "print(max(range(0,16)))\n",
    "print(len(range(0,16)))"
   ]
  },
  {
   "cell_type": "code",
   "execution_count": 5,
   "metadata": {},
   "outputs": [],
   "source": [
    "# skrive ut alle punktsannsynligheter for x fra 0 til 15\n",
    "#stats.binom.pmf(range(0, 16), n,p) "
   ]
  },
  {
   "cell_type": "markdown",
   "metadata": {},
   "source": [
    "### Plotte et sannsynlighetshistogram"
   ]
  },
  {
   "cell_type": "code",
   "execution_count": 6,
   "metadata": {},
   "outputs": [
    {
     "data": {
      "text/plain": [
       "Text(0.5, 0, 'x')"
      ]
     },
     "execution_count": 6,
     "metadata": {},
     "output_type": "execute_result"
    },
    {
     "data": {
      "image/png": "[encoded data removed]",
      "text/plain": [
       "<Figure size 432x288 with 1 Axes>"
      ]
     },
     "metadata": {
      "needs_background": "light"
     },
     "output_type": "display_data"
    }
   ],
   "source": [
    "plt.bar(range(0,16), stats.binom.pmf(range(0, 16), n,p))\n",
    "plt.grid(); plt.ylabel(\"P(X = x)\"); plt.xlabel(\"x\")"
   ]
  },
  {
   "cell_type": "markdown",
   "metadata": {},
   "source": [
    "## Kumulative sannsynligheter\n",
    "\n",
    "Vi lar $X$ være binomisk fordelt med parametere $n$ og $p$. For å regne ut den kumulative sannsynligheten $P(X \\leq x)$ bruker vi funksjonen `stats.binom.cdf(x,n,p)` fra stats-modulen i scipy-pakken, der \"cdf\" er en forkortelse for \"cumulative distribution function\" (kumulativ fordelingsfunksjon).\n",
    "\n",
    "Når vi har en måte for å regne ut kumulative sannsynligheter kan vi også regne ut andre sannsynligheter slik som $P(X < x)$ (streng ulikhet), $P(a < X \\leq b)$, osv. \n",
    "\n",
    "Slike sannsynligheter kan forståes som det arealet av flere stolper i et sannsynlighetshistogram."
   ]
  },
  {
   "cell_type": "code",
   "execution_count": 7,
   "metadata": {},
   "outputs": [
    {
     "data": {
      "text/plain": [
       "0.3822806016000001"
      ]
     },
     "execution_count": 7,
     "metadata": {},
     "output_type": "execute_result"
    }
   ],
   "source": [
    "n = 10   # antall forsøk\n",
    "p = 0.4  # sannsynligheten for suksess\n",
    "x = 3    # det tallet vi vil regne kumulativ sannsynlighet for\n",
    "stats.binom.cdf(x,n,p)  # P(X ≤ x)"
   ]
  },
  {
   "cell_type": "code",
   "execution_count": 8,
   "metadata": {},
   "outputs": [
    {
     "data": {
      "text/plain": [
       "0.16728975360000004"
      ]
     },
     "execution_count": 8,
     "metadata": {},
     "output_type": "execute_result"
    }
   ],
   "source": [
    "stats.binom.cdf(x-1,n,p) # P(X < x)"
   ]
  },
  {
   "cell_type": "code",
   "execution_count": 9,
   "metadata": {},
   "outputs": [
    {
     "data": {
      "text/plain": [
       "0.45148078079999987"
      ]
     },
     "execution_count": 9,
     "metadata": {},
     "output_type": "execute_result"
    }
   ],
   "source": [
    "stats.binom.cdf(5,n,p) - stats.binom.cdf(3,n,p)  # P(3 < X ≤ 5)"
   ]
  },
  {
   "cell_type": "markdown",
   "metadata": {},
   "source": [
    "### Plotte kumulative sannsynligheter"
   ]
  },
  {
   "cell_type": "code",
   "execution_count": 10,
   "metadata": {},
   "outputs": [
    {
     "data": {
      "text/plain": [
       "Text(0.5, 0, 'x')"
      ]
     },
     "execution_count": 10,
     "metadata": {},
     "output_type": "execute_result"
    },
    {
     "data": {
      "image/png": "[encoded data removed]",
      "text/plain": [
       "<Figure size 432x288 with 1 Axes>"
      ]
     },
     "metadata": {
      "needs_background": "light"
     },
     "output_type": "display_data"
    }
   ],
   "source": [
    "plt.step(range(0,16), stats.binom.cdf(range(0, 16), n,p))\n",
    "plt.grid(); plt.ylabel(\"P(X ≤ x)\"); plt.xlabel(\"x\")"
   ]
  },
  {
   "cell_type": "markdown",
   "metadata": {},
   "source": [
    "# Geometrisk fordeling\n",
    "\n",
    "Som vi har sett denne uka, så er binomisk og geometrisk fordeling nært beslektet. \n",
    "Begge er tett knyttet til den binomiske forsøksrekka.\n",
    "\n",
    "Funksjoner for å beregne punktsannsynlighet og kumulativ sannsynlighet for geometrisk fordeling følger samme system som for binomisk\n",
    "\n",
    "## Punktsannsynlighet \n",
    "\n",
    "Vi lar $Y$ være geometrisk fordelt med parameter $p$. For å regne ut sannsynligheten $P(Y = y)$ bruker vi funksjonen `stats.geom.pmf(y,p)` "
   ]
  },
  {
   "cell_type": "code",
   "execution_count": 11,
   "metadata": {},
   "outputs": [
    {
     "name": "stdout",
     "output_type": "stream",
     "text": [
      "Sannsynligheten for at Y=3 er 0.111\n"
     ]
    }
   ],
   "source": [
    "p=0.55\n",
    "y=3\n",
    "prob = stats.geom.pmf(y,p) \n",
    "print(\"Sannsynligheten for at Y=3 er %.3f\"%(prob))"
   ]
  },
  {
   "cell_type": "markdown",
   "metadata": {},
   "source": [
    "## Kumulative sannsynligheter\n",
    "\n",
    "For å regne ut den kumulative sannsynligheten $P(Y \\leq y)$ bruker vi funksjonen `stats.geom.cdf(y,p)`\n"
   ]
  },
  {
   "cell_type": "code",
   "execution_count": 12,
   "metadata": {},
   "outputs": [
    {
     "name": "stdout",
     "output_type": "stream",
     "text": [
      "Sannsynligheten for at Y er mindre eller lik 3 er 0.909\n"
     ]
    }
   ],
   "source": [
    "p=0.55\n",
    "y=3\n",
    "prob = stats.geom.cdf(y,p) \n",
    "print(\"Sannsynligheten for at Y er mindre eller lik 3 er %.3f\"%(prob))"
   ]
  }
 ],
 "metadata": {
  "kernelspec": {
   "display_name": "Python 3",
   "language": "python",
   "name": "python3"
  },
  "language_info": {
   "codemirror_mode": {
    "name": "ipython",
    "version": 3
   },
   "file_extension": ".py",
   "mimetype": "text/x-python",
   "name": "python",
   "nbconvert_exporter": "python",
   "pygments_lexer": "ipython3",
   "version": "3.8.3"
  }
 },
 "nbformat": 4,
 "nbformat_minor": 4
}
