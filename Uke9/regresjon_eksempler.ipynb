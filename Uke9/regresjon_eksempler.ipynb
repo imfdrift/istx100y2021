{
 "cells": [
  {
   "cell_type": "markdown",
   "metadata": {},
   "source": [
    "# Eksempler på datasett for lineær regresjon"
   ]
  },
  {
   "cell_type": "code",
   "execution_count": 6,
   "metadata": {},
   "outputs": [],
   "source": [
    "import pandas as pd # lese data fra csv-fil og bruke DataFrames\n",
    "import seaborn as sns # plotting\n",
    "sns.set(style = 'whitegrid', font_scale = 1.5) # utseende av plott\n",
    "import matplotlib.pyplot as plt # mer plotting\n",
    "import numpy as np # matematikk\n",
    "import statsmodels.api as sms # regresjonen\n",
    "import statsmodels.formula.api as smf # formel for regresjonen"
   ]
  },
  {
   "cell_type": "markdown",
   "metadata": {},
   "source": [
    "## Eksempel 1: Sykkel\n",
    "\n",
    "Datasettet 'sykkel.csv' inneholder registrert kaloriforbruk, tid og høyeste målte puls (makspuls) på 38 innendørs sykkel-økter. Tid og puls ble registrert med en treningsklokke, og treningsklokka har en innebygd algoritme som (sammen med konstanter slik som personens kjønn, alder, vekt, ...) beregner kaloriforbruket på en treningsøkt. For denne typen treningsøkter skal vi avgjøre om det er tid eller makspuls (høyeste målte puls) som er den beste forklaringsvariabelen for kaloriforbruk. \n",
    "\n",
    " plotter `y = Kalorier` mot `x = MaksPuls` og `y = Kalorier` mot `x = Tid` med en plottefunksjon som også viser estimert regresjonslinje og 95% konfidensintervall for linja. Kanskje ser du allerede hvilken modell som vi ha høyeste $R^2$, alså høyeste andel forklart varians i kaloriforbruk? "
   ]
  },
  {
   "cell_type": "markdown",
   "metadata": {},
   "source": [
    "### Steg 1: Lese inn og se på dataene\n",
    "\n",
    "Vi leser inn datasettet 'sykkel.csv' og plotter `y = Kalorier` mot `x = MaksPuls` og `y = Kalorier` mot `x = Tid` med en plottefunksjon som også viser estimert regresjonslinje og 95% konfidensintervall for linja. Kanskje ser du allerede hvilken modell som vi ha høyeste $R^2$, alså høyeste andel forklart varians i kaloriforbruk? "
   ]
  },
  {
   "cell_type": "code",
   "execution_count": 10,
   "metadata": {},
   "outputs": [
    {
     "data": {
      "text/html": [
       "<div>\n",
       "<style scoped>\n",
       "    .dataframe tbody tr th:only-of-type {\n",
       "        vertical-align: middle;\n",
       "    }\n",
       "\n",
       "    .dataframe tbody tr th {\n",
       "        vertical-align: top;\n",
       "    }\n",
       "\n",
       "    .dataframe thead th {\n",
       "        text-align: right;\n",
       "    }\n",
       "</style>\n",
       "<table border=\"1\" class=\"dataframe\">\n",
       "  <thead>\n",
       "    <tr style=\"text-align: right;\">\n",
       "      <th></th>\n",
       "      <th>Kalorier</th>\n",
       "      <th>Tid</th>\n",
       "      <th>MaksPuls</th>\n",
       "    </tr>\n",
       "  </thead>\n",
       "  <tbody>\n",
       "    <tr>\n",
       "      <th>0</th>\n",
       "      <td>324</td>\n",
       "      <td>30.116667</td>\n",
       "      <td>185</td>\n",
       "    </tr>\n",
       "    <tr>\n",
       "      <th>1</th>\n",
       "      <td>376</td>\n",
       "      <td>36.766667</td>\n",
       "      <td>184</td>\n",
       "    </tr>\n",
       "    <tr>\n",
       "      <th>2</th>\n",
       "      <td>366</td>\n",
       "      <td>39.166667</td>\n",
       "      <td>181</td>\n",
       "    </tr>\n",
       "    <tr>\n",
       "      <th>3</th>\n",
       "      <td>361</td>\n",
       "      <td>38.216667</td>\n",
       "      <td>189</td>\n",
       "    </tr>\n",
       "    <tr>\n",
       "      <th>4</th>\n",
       "      <td>378</td>\n",
       "      <td>39.116667</td>\n",
       "      <td>186</td>\n",
       "    </tr>\n",
       "  </tbody>\n",
       "</table>\n",
       "</div>"
      ],
      "text/plain": [
       "   Kalorier        Tid  MaksPuls\n",
       "0       324  30.116667       185\n",
       "1       376  36.766667       184\n",
       "2       366  39.166667       181\n",
       "3       361  38.216667       189\n",
       "4       378  39.116667       186"
      ]
     },
     "execution_count": 10,
     "metadata": {},
     "output_type": "execute_result"
    }
   ],
   "source": [
    "dfsykkel = pd.read_csv('https://www.math.ntnu.no/emner/IST100x/python_felles/sykkel.csv') # lese inn datasettet\n",
    "dfsykkel.head()"
   ]
  },
  {
   "cell_type": "code",
   "execution_count": 11,
   "metadata": {},
   "outputs": [
    {
     "data": {
      "image/png": "[encoded data removed]",
      "text/plain": [
       "<Figure size 432x288 with 2 Axes>"
      ]
     },
     "metadata": {},
     "output_type": "display_data"
    }
   ],
   "source": [
    "plt.subplot(1, 2, 1)\n",
    "sns.regplot(x='MaksPuls', y='Kalorier', data=dfsykkel)\n",
    "plt.ylim(290,510)\n",
    "\n",
    "plt.subplot(1, 2, 2)\n",
    "sns.regplot(x='Tid', y='Kalorier', color =\"g\", data=dfsykkel)\n",
    "plt.ylim(290,510)\n",
    "\n",
    "plt.tight_layout(); plt.show()"
   ]
  },
  {
   "cell_type": "markdown",
   "metadata": {},
   "source": [
    "### Steg 2: Tilpasse regresjonsmodell\n",
    "\n",
    "I koden nedenfor har vi tilpasset en slik lineær regresjonsmodell for `Kalorier` som funksjon av på `MaksPuls`. Finn ut hvor god modellen er, og sammenlign med en ny modell der du bytter ut `MaksPuls` med `Tid`. "
   ]
  },
  {
   "cell_type": "code",
   "execution_count": 12,
   "metadata": {},
   "outputs": [
    {
     "data": {
      "text/html": [
       "<table class=\"simpletable\">\n",
       "<caption>OLS Regression Results</caption>\n",
       "<tr>\n",
       "  <th>Dep. Variable:</th>        <td>Kalorier</td>     <th>  R-squared:         </th> <td>   0.572</td>\n",
       "</tr>\n",
       "<tr>\n",
       "  <th>Model:</th>                   <td>OLS</td>       <th>  Adj. R-squared:    </th> <td>   0.560</td>\n",
       "</tr>\n",
       "<tr>\n",
       "  <th>Method:</th>             <td>Least Squares</td>  <th>  F-statistic:       </th> <td>   48.17</td>\n",
       "</tr>\n",
       "<tr>\n",
       "  <th>Date:</th>             <td>Wed, 07 Jul 2021</td> <th>  Prob (F-statistic):</th> <td>3.93e-08</td>\n",
       "</tr>\n",
       "<tr>\n",
       "  <th>Time:</th>                 <td>13:21:21</td>     <th>  Log-Likelihood:    </th> <td> -171.82</td>\n",
       "</tr>\n",
       "<tr>\n",
       "  <th>No. Observations:</th>      <td>    38</td>      <th>  AIC:               </th> <td>   347.6</td>\n",
       "</tr>\n",
       "<tr>\n",
       "  <th>Df Residuals:</th>          <td>    36</td>      <th>  BIC:               </th> <td>   350.9</td>\n",
       "</tr>\n",
       "<tr>\n",
       "  <th>Df Model:</th>              <td>     1</td>      <th>                     </th>     <td> </td>   \n",
       "</tr>\n",
       "<tr>\n",
       "  <th>Covariance Type:</th>      <td>nonrobust</td>    <th>                     </th>     <td> </td>   \n",
       "</tr>\n",
       "</table>\n",
       "<table class=\"simpletable\">\n",
       "<tr>\n",
       "      <td></td>         <th>coef</th>     <th>std err</th>      <th>t</th>      <th>P>|t|</th>  <th>[0.025</th>    <th>0.975]</th>  \n",
       "</tr>\n",
       "<tr>\n",
       "  <th>Intercept</th> <td>  133.3837</td> <td>   37.689</td> <td>    3.539</td> <td> 0.001</td> <td>   56.947</td> <td>  209.821</td>\n",
       "</tr>\n",
       "<tr>\n",
       "  <th>Tid</th>       <td>    6.3946</td> <td>    0.921</td> <td>    6.940</td> <td> 0.000</td> <td>    4.526</td> <td>    8.263</td>\n",
       "</tr>\n",
       "</table>\n",
       "<table class=\"simpletable\">\n",
       "<tr>\n",
       "  <th>Omnibus:</th>       <td> 1.323</td> <th>  Durbin-Watson:     </th> <td>   1.182</td>\n",
       "</tr>\n",
       "<tr>\n",
       "  <th>Prob(Omnibus):</th> <td> 0.516</td> <th>  Jarque-Bera (JB):  </th> <td>   1.033</td>\n",
       "</tr>\n",
       "<tr>\n",
       "  <th>Skew:</th>          <td> 0.139</td> <th>  Prob(JB):          </th> <td>   0.597</td>\n",
       "</tr>\n",
       "<tr>\n",
       "  <th>Kurtosis:</th>      <td> 2.241</td> <th>  Cond. No.          </th> <td>    416.</td>\n",
       "</tr>\n",
       "</table><br/><br/>Notes:<br/>[1] Standard Errors assume that the covariance matrix of the errors is correctly specified."
      ],
      "text/plain": [
       "<class 'statsmodels.iolib.summary.Summary'>\n",
       "\"\"\"\n",
       "                            OLS Regression Results                            \n",
       "==============================================================================\n",
       "Dep. Variable:               Kalorier   R-squared:                       0.572\n",
       "Model:                            OLS   Adj. R-squared:                  0.560\n",
       "Method:                 Least Squares   F-statistic:                     48.17\n",
       "Date:                Wed, 07 Jul 2021   Prob (F-statistic):           3.93e-08\n",
       "Time:                        13:21:21   Log-Likelihood:                -171.82\n",
       "No. Observations:                  38   AIC:                             347.6\n",
       "Df Residuals:                      36   BIC:                             350.9\n",
       "Df Model:                           1                                         \n",
       "Covariance Type:            nonrobust                                         \n",
       "==============================================================================\n",
       "                 coef    std err          t      P>|t|      [0.025      0.975]\n",
       "------------------------------------------------------------------------------\n",
       "Intercept    133.3837     37.689      3.539      0.001      56.947     209.821\n",
       "Tid            6.3946      0.921      6.940      0.000       4.526       8.263\n",
       "==============================================================================\n",
       "Omnibus:                        1.323   Durbin-Watson:                   1.182\n",
       "Prob(Omnibus):                  0.516   Jarque-Bera (JB):                1.033\n",
       "Skew:                           0.139   Prob(JB):                        0.597\n",
       "Kurtosis:                       2.241   Cond. No.                         416.\n",
       "==============================================================================\n",
       "\n",
       "Notes:\n",
       "[1] Standard Errors assume that the covariance matrix of the errors is correctly specified.\n",
       "\"\"\""
      ]
     },
     "execution_count": 12,
     "metadata": {},
     "output_type": "execute_result"
    }
   ],
   "source": [
    "sykkelmodell = smf.ols('Kalorier~Tid', data=dfsykkel).fit()\n",
    "sykkelmodell.summary()"
   ]
  },
  {
   "cell_type": "markdown",
   "metadata": {},
   "source": [
    "## Eksempel 2: Simulerte data i tre ulike datasett\n",
    "\n",
    "Vi har generert tre ulike datasett som hver inneholder observasjoner av en kovariat ($x$) en responsvariabel $y$. "
   ]
  },
  {
   "cell_type": "code",
   "execution_count": 13,
   "metadata": {},
   "outputs": [],
   "source": [
    "filA=\"https://www.math.ntnu.no/emner/IST100x/python_felles/dataA.csv\"\n",
    "filB=\"https://www.math.ntnu.no/emner/IST100x/python_felles/dataB.csv\"\n",
    "filC=\"https://www.math.ntnu.no/emner/IST100x/python_felles/dataC.csv\""
   ]
  },
  {
   "cell_type": "code",
   "execution_count": 16,
   "metadata": {},
   "outputs": [
    {
     "data": {
      "text/html": [
       "<div>\n",
       "<style scoped>\n",
       "    .dataframe tbody tr th:only-of-type {\n",
       "        vertical-align: middle;\n",
       "    }\n",
       "\n",
       "    .dataframe tbody tr th {\n",
       "        vertical-align: top;\n",
       "    }\n",
       "\n",
       "    .dataframe thead th {\n",
       "        text-align: right;\n",
       "    }\n",
       "</style>\n",
       "<table border=\"1\" class=\"dataframe\">\n",
       "  <thead>\n",
       "    <tr style=\"text-align: right;\">\n",
       "      <th></th>\n",
       "      <th>y</th>\n",
       "      <th>x</th>\n",
       "    </tr>\n",
       "  </thead>\n",
       "  <tbody>\n",
       "    <tr>\n",
       "      <th>0</th>\n",
       "      <td>2.952822</td>\n",
       "      <td>4.201277</td>\n",
       "    </tr>\n",
       "    <tr>\n",
       "      <th>1</th>\n",
       "      <td>5.445425</td>\n",
       "      <td>2.529570</td>\n",
       "    </tr>\n",
       "    <tr>\n",
       "      <th>2</th>\n",
       "      <td>4.102380</td>\n",
       "      <td>3.971303</td>\n",
       "    </tr>\n",
       "    <tr>\n",
       "      <th>3</th>\n",
       "      <td>4.192746</td>\n",
       "      <td>3.607940</td>\n",
       "    </tr>\n",
       "    <tr>\n",
       "      <th>4</th>\n",
       "      <td>3.621047</td>\n",
       "      <td>4.285657</td>\n",
       "    </tr>\n",
       "  </tbody>\n",
       "</table>\n",
       "</div>"
      ],
      "text/plain": [
       "          y         x\n",
       "0  2.952822  4.201277\n",
       "1  5.445425  2.529570\n",
       "2  4.102380  3.971303\n",
       "3  4.192746  3.607940\n",
       "4  3.621047  4.285657"
      ]
     },
     "execution_count": 16,
     "metadata": {},
     "output_type": "execute_result"
    }
   ],
   "source": [
    "minfil=filA # endre til hvilken fil du skal bruke\n",
    "df = pd.read_csv(minfil)\n",
    "df.head()"
   ]
  },
  {
   "cell_type": "markdown",
   "metadata": {},
   "source": [
    "### Steg 1: Kryssplott\n",
    "\n",
    "Under finner du et kryssplott av x mot y. Hvilken sammenheng er det mellom x og y?\n",
    "\n",
    "- trolig ingen?\n",
    "- positiv lineær sammenheng?\n",
    "- negativ lineær sammenheng?\n",
    "- ikke-lineær sammenheng?"
   ]
  },
  {
   "cell_type": "code",
   "execution_count": 18,
   "metadata": {},
   "outputs": [
    {
     "name": "stdout",
     "output_type": "stream",
     "text": [
      "          y         x\n",
      "y  1.000000 -0.869797\n",
      "x -0.869797  1.000000\n"
     ]
    },
    {
     "data": {
      "image/png": "[encoded data removed]",
      "text/plain": [
       "<Figure size 360x360 with 1 Axes>"
      ]
     },
     "metadata": {},
     "output_type": "display_data"
    }
   ],
   "source": [
    "sns.relplot(x=\"x\", y=\"y\",data = df)\n",
    "\n",
    "print(df.corr()) # dette er en matrise med korrelasjonskoeffisienten i element 2,1 og 1,2"
   ]
  },
  {
   "cell_type": "markdown",
   "metadata": {},
   "source": [
    "### Steg 2: Tilpasse regresjonsmodell"
   ]
  },
  {
   "cell_type": "code",
   "execution_count": 20,
   "metadata": {},
   "outputs": [
    {
     "data": {
      "text/html": [
       "<table class=\"simpletable\">\n",
       "<caption>OLS Regression Results</caption>\n",
       "<tr>\n",
       "  <th>Dep. Variable:</th>            <td>y</td>        <th>  R-squared:         </th> <td>   0.757</td>\n",
       "</tr>\n",
       "<tr>\n",
       "  <th>Model:</th>                   <td>OLS</td>       <th>  Adj. R-squared:    </th> <td>   0.748</td>\n",
       "</tr>\n",
       "<tr>\n",
       "  <th>Method:</th>             <td>Least Squares</td>  <th>  F-statistic:       </th> <td>   87.01</td>\n",
       "</tr>\n",
       "<tr>\n",
       "  <th>Date:</th>             <td>Wed, 07 Jul 2021</td> <th>  Prob (F-statistic):</th> <td>4.37e-10</td>\n",
       "</tr>\n",
       "<tr>\n",
       "  <th>Time:</th>                 <td>13:26:39</td>     <th>  Log-Likelihood:    </th> <td> -26.153</td>\n",
       "</tr>\n",
       "<tr>\n",
       "  <th>No. Observations:</th>      <td>    30</td>      <th>  AIC:               </th> <td>   56.31</td>\n",
       "</tr>\n",
       "<tr>\n",
       "  <th>Df Residuals:</th>          <td>    28</td>      <th>  BIC:               </th> <td>   59.11</td>\n",
       "</tr>\n",
       "<tr>\n",
       "  <th>Df Model:</th>              <td>     1</td>      <th>                     </th>     <td> </td>   \n",
       "</tr>\n",
       "<tr>\n",
       "  <th>Covariance Type:</th>      <td>nonrobust</td>    <th>                     </th>     <td> </td>   \n",
       "</tr>\n",
       "</table>\n",
       "<table class=\"simpletable\">\n",
       "<tr>\n",
       "      <td></td>         <th>coef</th>     <th>std err</th>      <th>t</th>      <th>P>|t|</th>  <th>[0.025</th>    <th>0.975]</th>  \n",
       "</tr>\n",
       "<tr>\n",
       "  <th>Intercept</th> <td>    7.4810</td> <td>    0.402</td> <td>   18.587</td> <td> 0.000</td> <td>    6.657</td> <td>    8.306</td>\n",
       "</tr>\n",
       "<tr>\n",
       "  <th>x</th>         <td>   -0.8633</td> <td>    0.093</td> <td>   -9.328</td> <td> 0.000</td> <td>   -1.053</td> <td>   -0.674</td>\n",
       "</tr>\n",
       "</table>\n",
       "<table class=\"simpletable\">\n",
       "<tr>\n",
       "  <th>Omnibus:</th>       <td> 0.650</td> <th>  Durbin-Watson:     </th> <td>   1.574</td>\n",
       "</tr>\n",
       "<tr>\n",
       "  <th>Prob(Omnibus):</th> <td> 0.723</td> <th>  Jarque-Bera (JB):  </th> <td>   0.191</td>\n",
       "</tr>\n",
       "<tr>\n",
       "  <th>Skew:</th>          <td>-0.190</td> <th>  Prob(JB):          </th> <td>   0.909</td>\n",
       "</tr>\n",
       "<tr>\n",
       "  <th>Kurtosis:</th>      <td> 3.092</td> <th>  Cond. No.          </th> <td>    16.8</td>\n",
       "</tr>\n",
       "</table><br/><br/>Notes:<br/>[1] Standard Errors assume that the covariance matrix of the errors is correctly specified."
      ],
      "text/plain": [
       "<class 'statsmodels.iolib.summary.Summary'>\n",
       "\"\"\"\n",
       "                            OLS Regression Results                            \n",
       "==============================================================================\n",
       "Dep. Variable:                      y   R-squared:                       0.757\n",
       "Model:                            OLS   Adj. R-squared:                  0.748\n",
       "Method:                 Least Squares   F-statistic:                     87.01\n",
       "Date:                Wed, 07 Jul 2021   Prob (F-statistic):           4.37e-10\n",
       "Time:                        13:26:39   Log-Likelihood:                -26.153\n",
       "No. Observations:                  30   AIC:                             56.31\n",
       "Df Residuals:                      28   BIC:                             59.11\n",
       "Df Model:                           1                                         \n",
       "Covariance Type:            nonrobust                                         \n",
       "==============================================================================\n",
       "                 coef    std err          t      P>|t|      [0.025      0.975]\n",
       "------------------------------------------------------------------------------\n",
       "Intercept      7.4810      0.402     18.587      0.000       6.657       8.306\n",
       "x             -0.8633      0.093     -9.328      0.000      -1.053      -0.674\n",
       "==============================================================================\n",
       "Omnibus:                        0.650   Durbin-Watson:                   1.574\n",
       "Prob(Omnibus):                  0.723   Jarque-Bera (JB):                0.191\n",
       "Skew:                          -0.190   Prob(JB):                        0.909\n",
       "Kurtosis:                       3.092   Cond. No.                         16.8\n",
       "==============================================================================\n",
       "\n",
       "Notes:\n",
       "[1] Standard Errors assume that the covariance matrix of the errors is correctly specified.\n",
       "\"\"\""
      ]
     },
     "execution_count": 20,
     "metadata": {},
     "output_type": "execute_result"
    }
   ],
   "source": [
    "modell = smf.ols('y~x',df).fit()\n",
    "modell.summary()"
   ]
  }
 ],
 "metadata": {
  "kernelspec": {
   "display_name": "Python 3",
   "language": "python",
   "name": "python3"
  },
  "language_info": {
   "codemirror_mode": {
    "name": "ipython",
    "version": 3
   },
   "file_extension": ".py",
   "mimetype": "text/x-python",
   "name": "python",
   "nbconvert_exporter": "python",
   "pygments_lexer": "ipython3",
   "version": "3.8.5"
  }
 },
 "nbformat": 4,
 "nbformat_minor": 4
}
