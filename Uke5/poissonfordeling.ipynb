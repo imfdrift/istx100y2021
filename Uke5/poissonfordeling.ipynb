{
 "cells": [
  {
   "cell_type": "markdown",
   "metadata": {},
   "source": [
    "# Poissonfordeling"
   ]
  },
  {
   "cell_type": "markdown",
   "metadata": {},
   "source": [
    "La $X$ være en stokastisk variabel slik at $X \\sim \\text{poisson}(\\lambda t)$. Vi sier at $X$ er poissonfordelt med rate $\\lambda$. Den stokastiske variabelen representerer antall suksesser i løpet av et tidsintervall av lengde $t$ (eller i et område av størrelse $t$). \n",
    "\n",
    "I denne notatboken illustres hvordan du kan regne ut sannsynligheter for $X$, og plotte sannsynlighetsfordelingen til $X$, ved bruk av python-kode."
   ]
  },
  {
   "cell_type": "code",
   "execution_count": 1,
   "metadata": {},
   "outputs": [],
   "source": [
    "from scipy import stats # statistikk-modulen i scipy-pakken\n",
    "import matplotlib.pyplot as plt # plotting"
   ]
  },
  {
   "cell_type": "markdown",
   "metadata": {},
   "source": [
    "## Punktsannsynligheter\n",
    "\n",
    "Vi lar $X$ være poissonfordelt med forventning $\\mu = \\lambda t$. For å regne ut sannsynligheten $P(X = x)$ bruker vi funksjonen `stats.poisson.pmf(x,mu)` fra stats-modulen i scipy-pakken, der \"pmf\" er en forkortelse for \"probability mass function\" (punksannsynlighet) og \"mu\" betegner det greske symbolet for forventningsverdi $\\mu$. \n",
    "\n",
    "Punktsannsynligheter for alle mulige verdier av $X$ kan illustreres i et sannsynlighetshistogram der høyden (og arealet) på en stolpe er punktsannsynligheten."
   ]
  },
  {
   "cell_type": "code",
   "execution_count": 6,
   "metadata": {},
   "outputs": [
    {
     "data": {
      "text/plain": [
       "0.11853315025792689"
      ]
     },
     "execution_count": 6,
     "metadata": {},
     "output_type": "execute_result"
    }
   ],
   "source": [
    "mu = 5.4 # forventningsverdi\n",
    "x = 3     # det tallet vi vil regne på sannsynlighet for\n",
    "stats.poisson.pmf(x,mu)  # P(X = x)"
   ]
  },
  {
   "cell_type": "markdown",
   "metadata": {},
   "source": [
    "### Plotte sannsynlighetshistogram"
   ]
  },
  {
   "cell_type": "code",
   "execution_count": 7,
   "metadata": {},
   "outputs": [
    {
     "data": {
      "image/png": "[encoded data removed]",
      "text/plain": [
       "<Figure size 432x288 with 1 Axes>"
      ]
     },
     "metadata": {
      "needs_background": "light"
     },
     "output_type": "display_data"
    }
   ],
   "source": [
    "plt.bar(range(0,20), stats.poisson.pmf(range(0, 20), mu))\n",
    "plt.grid(); plt.ylabel(\"P(X = x)\"); plt.xlabel(\"x\")"
   ]
  },
  {
   "cell_type": "markdown",
   "metadata": {},
   "source": [
    "## Kumulative sannsynligheter\n",
    "\n",
    "Vi lar $X$ være poissonfordelt med forventning $\\mu = \\lambda t$. For å regne ut den kumulative sannsynligheten $P(X \\leq x)$ bruker vi funksjonen `stats.poisson.cdf(x,mu)` fra stats-modulen i scipy-pakken, der \"cdf\" er en forkortelse for \"cumulative distribution function\" (kumulativ fordelingsfunksjon).\n",
    "\n",
    "Når vi har en måte for å regne ut kumulative sannsynligheter kan vi også regne ut andre sannsynligheter slik som $P(X < x)$ (streng ulikhet), $P(a < X \\leq b)$, osv. \n",
    "\n",
    "Slike sannsynligheter kan forståes som det arealet av flere stolper i et sannsynlighetshistogram."
   ]
  },
  {
   "cell_type": "code",
   "execution_count": 8,
   "metadata": {},
   "outputs": [
    {
     "data": {
      "text/plain": [
       "0.21329101843394052"
      ]
     },
     "execution_count": 8,
     "metadata": {},
     "output_type": "execute_result"
    }
   ],
   "source": [
    "mu = 5.4 # forventningsverdi\n",
    "x = 3    # det tallet vi vil regne på sannsynlighet for\n",
    "stats.poisson.cdf(x,mu)  # P(X ≤ x)"
   ]
  },
  {
   "cell_type": "code",
   "execution_count": 9,
   "metadata": {},
   "outputs": [
    {
     "data": {
      "text/plain": [
       "0.09475786817601377"
      ]
     },
     "execution_count": 9,
     "metadata": {},
     "output_type": "execute_result"
    }
   ],
   "source": [
    "stats.poisson.cdf(x-1,mu) # P(X < x)"
   ]
  },
  {
   "cell_type": "code",
   "execution_count": 11,
   "metadata": {},
   "outputs": [
    {
     "data": {
      "text/plain": [
       "0.33284108592425876"
      ]
     },
     "execution_count": 11,
     "metadata": {},
     "output_type": "execute_result"
    }
   ],
   "source": [
    "stats.poisson.cdf(5,mu) - stats.poisson.cdf(3,mu)  # P(3 < X ≤ 5)"
   ]
  },
  {
   "cell_type": "markdown",
   "metadata": {},
   "source": [
    "### Plotte kumulative sannsynligheter"
   ]
  },
  {
   "cell_type": "code",
   "execution_count": 12,
   "metadata": {},
   "outputs": [
    {
     "data": {
      "text/plain": [
       "Text(0.5, 0, 'x')"
      ]
     },
     "execution_count": 12,
     "metadata": {},
     "output_type": "execute_result"
    },
    {
     "data": {
      "image/png": "[encoded data removed]",
      "text/plain": [
       "<Figure size 432x288 with 1 Axes>"
      ]
     },
     "metadata": {
      "needs_background": "light"
     },
     "output_type": "display_data"
    }
   ],
   "source": [
    "plt.step(range(0,20), stats.poisson.cdf(range(0, 20), mu))\n",
    "plt.grid(); plt.ylabel(\"P(X ≤ x)\"); plt.xlabel(\"x\")"
   ]
  }
 ],
 "metadata": {
  "kernelspec": {
   "display_name": "Python 3",
   "language": "python",
   "name": "python3"
  },
  "language_info": {
   "codemirror_mode": {
    "name": "ipython",
    "version": 3
   },
   "file_extension": ".py",
   "mimetype": "text/x-python",
   "name": "python",
   "nbconvert_exporter": "python",
   "pygments_lexer": "ipython3",
   "version": "3.8.3"
  }
 },
 "nbformat": 4,
 "nbformat_minor": 4
}
