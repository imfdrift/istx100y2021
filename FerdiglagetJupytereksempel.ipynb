{
 "cells": [
  {
   "cell_type": "markdown",
   "metadata": {},
   "source": [
    "# Øving 4: Vanlige sannsynlighetsmodeller"
   ]
  },
  {
   "cell_type": "markdown",
   "metadata": {},
   "source": [
    "Dette er en Jupyternotatbok. Den består av celler av type \"code\" og \"markdown\", og hver celle kan sees i enten \"edit\" eller \"kommando\"-modus. Mer om dette på zoom-forelesningen i uke 4 (eller se i Python-ressursene i venstremenyen i emnet i Blackboard). \n",
    "\n",
    "**Kortversjon:** dobbeltklikk på en celle for å komme i edit-mode, gjør endringene din og kjør koden i en celle med shift-enter (eller velge play-knappen i vertøylinja over). For å kjøre alt i notatboka kan du trykke shift-enter på alle celler (en etter en), eller gå i menyen for hubben (til venstre) og velge Run-\"Run all cells\"."
   ]
  },
  {
   "cell_type": "markdown",
   "metadata": {},
   "source": [
    "## Spørsmål 3\n",
    "\n",
    "La $X$ være antall suksesser i et binomisk forsøk med $n$ (gitt tall i oppgaven) og $p$ (gitt tall i oppgaven).\n",
    "Regn ut:\n",
    "\n",
    "a) P($X$=a) \n",
    "\n",
    "b) P($X \\le$ b) \n",
    "\n",
    "c) P($X$<c) \n",
    "\n",
    "Her har du fått dine unike verdier av $n$, $p$ og av $a$, $b$ og $c$ i oppgaven i stack\n",
    "\n",
    "Vi fikk verdiene $n=37$ og $p=0.6$ og skal bruke disse i løsningen under. Du bruker de verdiene du fikk!\n",
    "\n",
    "Først - vi trenger statistikk-modulen fra scipy-pakke, som vi laster slik:"
   ]
  },
  {
   "cell_type": "code",
   "execution_count": 1,
   "metadata": {},
   "outputs": [],
   "source": [
    "from scipy import stats"
   ]
  },
  {
   "cell_type": "markdown",
   "metadata": {},
   "source": [
    "\n",
    "\n",
    "## 3a\n",
    "\n",
    "Anta at du skal regne ut $P(X=21)$, da bruker du funksjonen stats.binom.pmf som tar tre argumenter: først tallet som vi skal være lik (her 21), deretter $n$ (her 37) og så $p$ (0.6)."
   ]
  },
  {
   "cell_type": "code",
   "execution_count": 2,
   "metadata": {},
   "outputs": [
    {
     "data": {
      "text/plain": [
       "0.1213135990004439"
      ]
     },
     "execution_count": 2,
     "metadata": {},
     "output_type": "execute_result"
    }
   ],
   "source": [
    "stats.binom.pmf(21,37,0.6)"
   ]
  },
  {
   "cell_type": "markdown",
   "metadata": {},
   "source": [
    "## 3b \n",
    "\n",
    "Anta at du skal regne ut $P(X \\le 21)$. Du skal bruke funksjonen stats.binom.cdf som tar de samme tre argumentene som over, og regner ut sannsynlighet for å være mindre eller lik det første tallet (her 21)."
   ]
  },
  {
   "cell_type": "code",
   "execution_count": 3,
   "metadata": {},
   "outputs": [
    {
     "data": {
      "text/plain": [
       "0.40320180057287325"
      ]
     },
     "execution_count": 3,
     "metadata": {},
     "output_type": "execute_result"
    }
   ],
   "source": [
    "stats.binom.cdf(21,37,0.6)"
   ]
  },
  {
   "cell_type": "markdown",
   "metadata": {},
   "source": [
    "## 3c\n",
    "\n",
    "Her skal vi bruke den samme funksjonen som i 3b, men nå skal vi regne ut \"mindre enn\" og ikke\n",
    "\"mindre enn eller lik\".\n",
    "\n",
    "Anta at du skal regne ut $P(X < 16)$. Det er det samme som $P(X \\le 15)$."
   ]
  },
  {
   "cell_type": "code",
   "execution_count": 4,
   "metadata": {},
   "outputs": [
    {
     "data": {
      "text/plain": [
       "0.013065958713528855"
      ]
     },
     "execution_count": 4,
     "metadata": {},
     "output_type": "execute_result"
    }
   ],
   "source": [
    "stats.binom.cdf(16-1,37,0.6)\n"
   ]
  },
  {
   "cell_type": "markdown",
   "metadata": {},
   "source": [
    "## Spørsmål 4\n",
    "\n",
    "La $X$ være antall suksesser i et binomisk forsøk med n (gitt tall i oppgaven) og p (gitt tall i oppgaven)\n",
    "\n",
    "For hvilken verdi x er sannsynligheten $P(X=x)$ størst? Svaret er et heltall.\n",
    "\n",
    "Anta at verdiene som ble gitt i oppgaven er $n=25$ og $p=0.4$.\n",
    "\n",
    "Vi trenger to pakker: statistikk-modulen fra scipy (som i spørsmål 3), og matlibplot.pyplot for å plotte.\n",
    "\n",
    "Vi starter med å importere disse."
   ]
  },
  {
   "cell_type": "code",
   "execution_count": 5,
   "metadata": {},
   "outputs": [],
   "source": [
    "from scipy import stats\n",
    "import matplotlib.pyplot as plt"
   ]
  },
  {
   "cell_type": "markdown",
   "metadata": {},
   "source": [
    "Hva er de mulige verdiene $X$ kan ta? For binomisk fordeling er det alle heltall fra og med 0 til og med $n$ (her 25). \n",
    "\n",
    "Vi lager en vektor med disse tallene (det gjør vi med range-funksjonen under - husk at øvre grense for range er +1) "
   ]
  },
  {
   "cell_type": "code",
   "execution_count": 6,
   "metadata": {},
   "outputs": [],
   "source": [
    "xverdier=range(0,26)"
   ]
  },
  {
   "cell_type": "markdown",
   "metadata": {},
   "source": [
    "og så skal vi regne ut punktsannsynligheten for disse verdiene med funksjonen stats.binom.pmf, og første argument kan godt være en vektor (da regnes punktsannsynligheten ut for alle elementene i vektoren)."
   ]
  },
  {
   "cell_type": "code",
   "execution_count": 7,
   "metadata": {},
   "outputs": [
    {
     "data": {
      "text/plain": [
       "array([2.84302880e-06, 4.73838134e-05, 3.79070507e-04, 1.93747148e-03,\n",
       "       7.10406210e-03, 1.98913739e-02, 4.42030530e-02, 7.99864769e-02,\n",
       "       1.19979715e-01, 1.51085568e-01, 1.61157939e-01, 1.46507217e-01,\n",
       "       1.13950058e-01, 7.59667051e-02, 4.34095458e-02, 2.12224446e-02,\n",
       "       8.84268525e-03, 3.12094774e-03, 9.24725255e-04, 2.27125501e-04,\n",
       "       4.54251002e-05, 7.21033337e-06, 8.73979803e-07, 7.59982437e-08,\n",
       "       4.22212465e-09, 1.12589991e-10])"
      ]
     },
     "execution_count": 7,
     "metadata": {},
     "output_type": "execute_result"
    }
   ],
   "source": [
    "stats.binom.pmf(xverdier, 25,0.4)"
   ]
  },
  {
   "cell_type": "markdown",
   "metadata": {},
   "source": [
    "Vi kan se om vi finner det største tallet blant de 25 punktsannsynlighetene, men det er lettere å se hvis vi lager et sannsynlighetshistogram over tallene. Det gjør vi slik:"
   ]
  },
  {
   "cell_type": "code",
   "execution_count": 8,
   "metadata": {},
   "outputs": [
    {
     "data": {
      "image/png": "[encoded data removed]",
      "text/plain": [
       "<Figure size 432x288 with 1 Axes>"
      ]
     },
     "metadata": {
      "needs_background": "light"
     },
     "output_type": "display_data"
    }
   ],
   "source": [
    "fig, ax = plt.subplots()\n",
    "ax.bar(xverdier, stats.binom.pmf(xverdier, 25,0.4))\n",
    "ax.grid()"
   ]
  },
  {
   "cell_type": "markdown",
   "metadata": {},
   "source": [
    "For en binomisk fordeling med $n=$25 og $p$= 0.4 ble det høyest punktsannynlighet for $x=10$. "
   ]
  }
 ],
 "metadata": {
  "kernelspec": {
   "display_name": "Python 3",
   "language": "python",
   "name": "python3"
  },
  "language_info": {
   "codemirror_mode": {
    "name": "ipython",
    "version": 3
   },
   "file_extension": ".py",
   "mimetype": "text/x-python",
   "name": "python",
   "nbconvert_exporter": "python",
   "pygments_lexer": "ipython3",
   "version": "3.8.3"
  }
 },
 "nbformat": 4,
 "nbformat_minor": 4
}
